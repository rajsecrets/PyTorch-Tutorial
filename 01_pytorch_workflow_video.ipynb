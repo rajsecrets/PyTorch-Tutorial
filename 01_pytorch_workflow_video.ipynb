{
  "cells": [
    {
      "cell_type": "markdown",
      "metadata": {
        "id": "view-in-github",
        "colab_type": "text"
      },
      "source": [
        "<a href=\"https://colab.research.google.com/github/rajsecrets/PyTorch-Tutorial/blob/main/01_pytorch_workflow_video.ipynb\" target=\"_parent\"><img src=\"https://colab.research.google.com/assets/colab-badge.svg\" alt=\"Open In Colab\"/></a>"
      ]
    },
    {
      "cell_type": "markdown",
      "metadata": {
        "id": "VzoeHG-9cqrV"
      },
      "source": [
        "# PyTorch Workflow\n",
        "let's code an example pytorch end to end workflow"
      ]
    },
    {
      "cell_type": "code",
      "execution_count": 1,
      "metadata": {
        "colab": {
          "base_uri": "https://localhost:8080/"
        },
        "id": "MoDgN1tFdj3v",
        "outputId": "3155f141-e881-4fb8-cf85-906a9bf0b00a"
      },
      "outputs": [
        {
          "output_type": "stream",
          "name": "stdout",
          "text": [
            "this is dictionary\n"
          ]
        },
        {
          "output_type": "execute_result",
          "data": {
            "text/plain": [
              "({1: 'data(prepare and load)',\n",
              "  2: 'build model',\n",
              "  3: 'fitting the model to data(training)',\n",
              "  4: 'making predictions and evaluating a model (inferences)',\n",
              "  5: 'saving and loading the model',\n",
              "  6: 'putting it all together'},\n",
              " None)"
            ]
          },
          "metadata": {},
          "execution_count": 1
        }
      ],
      "source": [
        "what_we_are_covering = {1: \"data(prepare and load)\",\n",
        "                        2: \"build model\",\n",
        "                        3: \"fitting the model to data(training)\",\n",
        "                        4: \"making predictions and evaluating a model (inferences)\",\n",
        "                        5: \"saving and loading the model\",\n",
        "                        6: \"putting it all together\"}\n",
        "what_we_are_covering, print(\"this is dictionary\")"
      ]
    },
    {
      "cell_type": "code",
      "execution_count": 2,
      "metadata": {
        "colab": {
          "base_uri": "https://localhost:8080/",
          "height": 35
        },
        "id": "f06Kbt4Sdjz7",
        "outputId": "0f260d1d-01fb-41ea-e19f-94e93bbdee3a"
      },
      "outputs": [
        {
          "output_type": "execute_result",
          "data": {
            "text/plain": [
              "'2.1.0+cu118'"
            ],
            "application/vnd.google.colaboratory.intrinsic+json": {
              "type": "string"
            }
          },
          "metadata": {},
          "execution_count": 2
        }
      ],
      "source": [
        "import torch\n",
        "from torch import nn #nn contains all of the pytorch's building blocks for neural networks\n",
        "import matplotlib.pyplot as plt\n",
        "\n",
        "# check the pytorh version\n",
        "torch.__version__"
      ]
    },
    {
      "cell_type": "markdown",
      "metadata": {
        "id": "HW45f4KQdjtA"
      },
      "source": [
        "# Data (preparing and loading)\n",
        "Data can be anything in machine learning\n",
        "* Excel spreadsheet\n",
        "* image\n",
        "* video\n",
        "* text\n",
        "* DNA\n",
        "* Song\n",
        "\n",
        "Machine learning is a game of two parts:\n",
        "1. Get data into a numbers\n",
        "2. find or build the model to learn the patterns in the numbers\n",
        "\n",
        "To showcase this, let's create some known data using the linear regression formula.\n",
        "\n",
        "we will use a linear regression formula to make a st. line with known parameters."
      ]
    },
    {
      "cell_type": "code",
      "execution_count": 3,
      "metadata": {
        "colab": {
          "base_uri": "https://localhost:8080/"
        },
        "id": "gevZyvitdjpX",
        "outputId": "571552b3-1cf8-4d19-ec84-60217530696f"
      },
      "outputs": [
        {
          "output_type": "execute_result",
          "data": {
            "text/plain": [
              "(tensor([[0.0000],\n",
              "         [0.0200],\n",
              "         [0.0400],\n",
              "         [0.0600],\n",
              "         [0.0800],\n",
              "         [0.1000],\n",
              "         [0.1200],\n",
              "         [0.1400],\n",
              "         [0.1600],\n",
              "         [0.1800]]),\n",
              " tensor([[0.3000],\n",
              "         [0.3140],\n",
              "         [0.3280],\n",
              "         [0.3420],\n",
              "         [0.3560],\n",
              "         [0.3700],\n",
              "         [0.3840],\n",
              "         [0.3980],\n",
              "         [0.4120],\n",
              "         [0.4260]]))"
            ]
          },
          "metadata": {},
          "execution_count": 3
        }
      ],
      "source": [
        "# create *known* parameter\n",
        "# y = mx + c\n",
        "\n",
        "weight = 0.7\n",
        "bias = 0.3\n",
        "\n",
        "#create\n",
        "start = 0\n",
        "end = 1\n",
        "step = 0.02\n",
        "X =  torch.arange(start,end,step).unsqueeze(dim = 1)\n",
        "y = weight*X +  bias\n",
        "\n",
        "X[:10], y[:10]"
      ]
    },
    {
      "cell_type": "code",
      "execution_count": 4,
      "metadata": {
        "colab": {
          "base_uri": "https://localhost:8080/"
        },
        "id": "TyQ6XjRLK6Rv",
        "outputId": "a74b043c-d748-42e8-b056-78e58e78ecf5"
      },
      "outputs": [
        {
          "output_type": "execute_result",
          "data": {
            "text/plain": [
              "50"
            ]
          },
          "metadata": {},
          "execution_count": 4
        }
      ],
      "source": [
        "\n",
        "len(y)"
      ]
    },
    {
      "cell_type": "code",
      "execution_count": 5,
      "metadata": {
        "colab": {
          "base_uri": "https://localhost:8080/"
        },
        "id": "6hTeXKRHKWjW",
        "outputId": "1c039314-8280-4f63-c605-122c2df0921b"
      },
      "outputs": [
        {
          "output_type": "execute_result",
          "data": {
            "text/plain": [
              "50"
            ]
          },
          "metadata": {},
          "execution_count": 5
        }
      ],
      "source": [
        "len(X)"
      ]
    },
    {
      "cell_type": "code",
      "execution_count": 6,
      "metadata": {
        "colab": {
          "base_uri": "https://localhost:8080/"
        },
        "id": "TOvooeKWdjk_",
        "outputId": "298c0d16-548a-4549-b0c2-1aa386f9e76a"
      },
      "outputs": [
        {
          "output_type": "execute_result",
          "data": {
            "text/plain": [
              "(50, 50)"
            ]
          },
          "metadata": {},
          "execution_count": 6
        }
      ],
      "source": [
        "\n",
        "\n",
        "\n",
        "\n",
        "\n",
        "len(X), len(y)"
      ]
    },
    {
      "cell_type": "markdown",
      "metadata": {
        "id": "E74voTo2djgq"
      },
      "source": [
        "### Splitting data into training and test sets (one of the most important concepts)\n",
        "\n",
        "Let's create training and testing set data"
      ]
    },
    {
      "cell_type": "code",
      "execution_count": 7,
      "metadata": {
        "colab": {
          "base_uri": "https://localhost:8080/"
        },
        "id": "clNvW6RzZts3",
        "outputId": "df218cc6-a639-4d1c-e616-d70dac00e3af"
      },
      "outputs": [
        {
          "output_type": "execute_result",
          "data": {
            "text/plain": [
              "(40, 40, 10, 10)"
            ]
          },
          "metadata": {},
          "execution_count": 7
        }
      ],
      "source": [
        "\n",
        "# create a train/test split\n",
        "train_split = int(0.8* len(X))\n",
        "X_train , y_train = X[:train_split], y[:train_split]\n",
        "X_test, y_test = X[train_split:], y[train_split:]\n",
        "\n",
        "len(X_train), len(y_train), len(X_test), len(y_test)"
      ]
    },
    {
      "cell_type": "markdown",
      "metadata": {
        "id": "wbQY495ALsYN"
      },
      "source": [
        "How we can visualise the data ?\n",
        "- Matlplotlib"
      ]
    },
    {
      "cell_type": "code",
      "execution_count": 8,
      "metadata": {
        "id": "395SKxL5KTWm"
      },
      "outputs": [],
      "source": [
        "def plot_predictions(train_data = X_train,\n",
        "                     train_labels=y_train,\n",
        "                     test_data=X_test,\n",
        "                     test_labels=y_test,\n",
        "                     predictions=None):\n",
        "  \"\"\"\n",
        "  plots training data , test data and compares predictions\n",
        "  \"\"\"\n",
        "  plt.figure(figsize=(10,7))\n",
        "\n",
        "  #plot the traning data in blue\n",
        "  plt.scatter(train_data, train_labels,c=\"b\", s = 4, label ='training data ')\n",
        "\n",
        "\n",
        "  #plot test data in green\n",
        "  plt.scatter(test_data, test_labels, c=\"g\", label=\"testing data\")\n",
        "\n",
        "# are there predictions\n",
        "\n",
        "  if predictions is not None:\n",
        "  #plot the predictions if they exist\n",
        "    plt.scatter(test_data, predictions, c = \"r\", label= \"predictions\")\n",
        "\n",
        "  #show the legend\n",
        "  plt.legend(prop={\"size\":14});\n"
      ]
    },
    {
      "cell_type": "code",
      "execution_count": 9,
      "metadata": {
        "colab": {
          "base_uri": "https://localhost:8080/",
          "height": 599
        },
        "id": "vtvnJFP9MoQG",
        "outputId": "14ea2cb2-aaa8-4d8f-8b99-339047490eea"
      },
      "outputs": [
        {
          "output_type": "display_data",
          "data": {
            "text/plain": [
              "<Figure size 1000x700 with 1 Axes>"
            ],
            "image/png": "[encoded data removed]"
          },
          "metadata": {}
        }
      ],
      "source": [
        "plot_predictions();"
      ]
    },
    {
      "cell_type": "markdown",
      "metadata": {
        "id": "VOH8xWYIP0JW"
      },
      "source": [
        "\n",
        "# 2. Build Model\n",
        "Our first PyTorch model..\n",
        "\n",
        "\n",
        "This is very exciting... let's do it\n",
        "\n",
        "- learn OOPs in python\n",
        "\n",
        "What our model does :\n",
        "* start with random values(weights and bias)\n",
        "* Look at training data and adjust the random values\n",
        "\n",
        "How does it do so ?\n",
        "\n",
        "\n",
        "By two main algorithms...\n",
        "1. Gradient Descent\n",
        "2. Backpropagation"
      ]
    },
    {
      "cell_type": "code",
      "execution_count": 10,
      "metadata": {
        "id": "34WiACotln3r"
      },
      "outputs": [],
      "source": [
        "# Create linear regression model class\n",
        "# nn(module) is the building block for neural networks and as we are making the neural networks so we need it now.\n",
        "class LinearRegressionModel(nn.Module):\n",
        "  def __init__(self):\n",
        "    super().__init__()\n",
        "    self.weights = nn.Parameter(torch.randn(1,\n",
        "                                            requires_grad=True,\n",
        "                                            dtype=torch.float))\n",
        "\n",
        "    self.bias = nn.Parameter(torch.randn(1,\n",
        "                                       requires_grad=True,\n",
        "                                       dtype=torch.float))\n",
        "\n",
        "    #Forward method to define the computational in the model\n",
        "  def forward(self, x: torch.Tensor) -> torch.Tensor: # \"x\" is the input data here\n",
        "    return self.weights *x + self.bias  # linear regression formula\n",
        "\n",
        "\n"
      ]
    },
    {
      "cell_type": "markdown",
      "metadata": {
        "id": "xV-WUy4wm-39"
      },
      "source": [
        "###  Pytorch model essentials\n",
        "\n",
        "* torch.nn - contains all of the computational graphs (a neural network can be considered as a computational graph)\n",
        "* torch.nn.Parameter - what parameters should our model try and learn , often a Pytorch layer from torch.nn will set these for us\n",
        "* torch.nn.Module - The base class for all neural network modules , if you subclass it, you should overwrite forward()\n",
        "* torch.optim - this where the optimizers in Pytorch live, they help with gradient descent\n",
        "* def forward() - All nn.module subclasses require you to overwrite forward(), this method defines what happens in the forward computation\n",
        "\n",
        "\n",
        "### 1. for loading dataset\n",
        "* torchvision.transforms\n",
        "* torch.utils.data.Dataset\n",
        "* torch.utils.data.Dataloader\n",
        "\n",
        "### 2. for picking a pretrained model\n",
        "* torch.nn\n",
        "* torch.nn.module\n",
        "* torchvision.models\n",
        "\n",
        "### 3. for optimisation\n",
        "* torch.optim\n",
        "\n",
        "### 4. Evaluation of model\n",
        "* torchmetrics\n",
        "\n",
        "### 5. Improve through experimentation\n",
        "* torch.utils.tensorboard\n",
        "\n",
        "\n"
      ]
    },
    {
      "cell_type": "code",
      "execution_count": 11,
      "metadata": {
        "colab": {
          "base_uri": "https://localhost:8080/"
        },
        "id": "mRuNrXx1bfHn",
        "outputId": "2cb70987-88e9-4de7-bce6-6dda7cd9d9c9"
      },
      "outputs": [
        {
          "output_type": "execute_result",
          "data": {
            "text/plain": [
              "[Parameter containing:\n",
              " tensor([0.3367], requires_grad=True),\n",
              " Parameter containing:\n",
              " tensor([0.1288], requires_grad=True)]"
            ]
          },
          "metadata": {},
          "execution_count": 11
        }
      ],
      "source": [
        "# create random seed\n",
        "torch.manual_seed(42)\n",
        "\n",
        " # Create an instance of the model (this the subclass of nn.module)\n",
        "model_0= LinearRegressionModel()\n",
        "\n",
        " #check out the parameters\n",
        "list(model_0.parameters())"
      ]
    },
    {
      "cell_type": "markdown",
      "metadata": {
        "id": "5iFXC0n13Lyo"
      },
      "source": [
        "\n",
        "### for stopping the randomness\n",
        "from torch.random import manual_seed\n",
        "\n",
        "torch.manual_seed()\n"
      ]
    },
    {
      "cell_type": "code",
      "execution_count": 12,
      "metadata": {
        "colab": {
          "base_uri": "https://localhost:8080/"
        },
        "id": "8sHESl613kf2",
        "outputId": "e434ad60-344d-4eea-c1ef-634fc2f0e1e5"
      },
      "outputs": [
        {
          "output_type": "execute_result",
          "data": {
            "text/plain": [
              "OrderedDict([('weights', tensor([0.3367])), ('bias', tensor([0.1288]))])"
            ]
          },
          "metadata": {},
          "execution_count": 12
        }
      ],
      "source": [
        "# List the named parameters\n",
        "model_0.state_dict()"
      ]
    },
    {
      "cell_type": "markdown",
      "metadata": {
        "id": "sNSi44T5Dqsl"
      },
      "source": [
        "### Making prediction using `torch.inference_model()`\n",
        "\n",
        "to check our model's predictive power, let's see how well it predicts `y_test` based on 'X_test'.\n",
        "\n",
        "when we pass data through our model, it's going to run it through the `forward()` method."
      ]
    },
    {
      "cell_type": "code",
      "execution_count": 13,
      "metadata": {
        "colab": {
          "base_uri": "https://localhost:8080/"
        },
        "id": "463_PCcxGOHD",
        "outputId": "c0ce28f0-bbb9-4a36-c310-f4839f23e854"
      },
      "outputs": [
        {
          "output_type": "execute_result",
          "data": {
            "text/plain": [
              "tensor([[0.8000],\n",
              "        [0.8200],\n",
              "        [0.8400],\n",
              "        [0.8600],\n",
              "        [0.8800],\n",
              "        [0.9000],\n",
              "        [0.9200],\n",
              "        [0.9400],\n",
              "        [0.9600],\n",
              "        [0.9800]])"
            ]
          },
          "metadata": {},
          "execution_count": 13
        }
      ],
      "source": [
        "X_test"
      ]
    },
    {
      "cell_type": "code",
      "execution_count": 14,
      "metadata": {
        "colab": {
          "base_uri": "https://localhost:8080/"
        },
        "id": "0TtV4QtZEU3U",
        "outputId": "5ce5aa9e-333e-494f-bd56-eb16805bd5bc"
      },
      "outputs": [
        {
          "output_type": "execute_result",
          "data": {
            "text/plain": [
              "tensor([[0.3982],\n",
              "        [0.4049],\n",
              "        [0.4116],\n",
              "        [0.4184],\n",
              "        [0.4251],\n",
              "        [0.4318],\n",
              "        [0.4386],\n",
              "        [0.4453],\n",
              "        [0.4520],\n",
              "        [0.4588]])"
            ]
          },
          "metadata": {},
          "execution_count": 14
        }
      ],
      "source": [
        "# Make predictions with model\n",
        "with torch.inference_mode():\n",
        "  y_preds = model_0(X_test)\n",
        "\n",
        "y_preds"
      ]
    },
    {
      "cell_type": "code",
      "execution_count": 15,
      "metadata": {
        "colab": {
          "base_uri": "https://localhost:8080/"
        },
        "id": "2PUd7WHrEU0T",
        "outputId": "9a3298d0-5b23-47bb-9ffd-cebda396004a"
      },
      "outputs": [
        {
          "output_type": "execute_result",
          "data": {
            "text/plain": [
              "tensor([[0.8600],\n",
              "        [0.8740],\n",
              "        [0.8880],\n",
              "        [0.9020],\n",
              "        [0.9160],\n",
              "        [0.9300],\n",
              "        [0.9440],\n",
              "        [0.9580],\n",
              "        [0.9720],\n",
              "        [0.9860]])"
            ]
          },
          "metadata": {},
          "execution_count": 15
        }
      ],
      "source": [
        "y_test"
      ]
    },
    {
      "cell_type": "markdown",
      "metadata": {
        "id": "8M2Fq0j-HMSW"
      },
      "source": [
        "Not good predictions"
      ]
    },
    {
      "cell_type": "code",
      "execution_count": 16,
      "metadata": {
        "colab": {
          "base_uri": "https://localhost:8080/",
          "height": 599
        },
        "id": "Y3Iuln_gHJsF",
        "outputId": "1cc0ff66-6f96-4dbd-db20-b854d8169eb0"
      },
      "outputs": [
        {
          "output_type": "display_data",
          "data": {
            "text/plain": [
              "<Figure size 1000x700 with 1 Axes>"
            ],
            "image/png": "[encoded data removed]"
          },
          "metadata": {}
        }
      ],
      "source": [
        "plot_predictions(predictions=y_preds)"
      ]
    },
    {
      "cell_type": "code",
      "execution_count": 17,
      "metadata": {
        "id": "HXVQZLwMEUw1"
      },
      "outputs": [],
      "source": [
        "# with torch.no_grad():\n",
        "#   y_pred = model_0(X_test)\n",
        "\n",
        "# y_pred"
      ]
    },
    {
      "cell_type": "markdown",
      "metadata": {
        "id": "-8EzNANwPh-G"
      },
      "source": [
        "Conclusion -- we will use inference for prediction"
      ]
    },
    {
      "cell_type": "markdown",
      "metadata": {
        "id": "wb-zHImSEUtm"
      },
      "source": [
        "## 3. Train model\n",
        "why ?\n",
        "\n",
        "To move from unknown parameters to known\n",
        "\n",
        "To see how much our model is predicting wrong , we use `loss function`\n",
        "\n",
        "* **Loss function:** a mathematical function for measuring how much model is predicting wrt ideal outputs.\n",
        "\n",
        "* **Optimizer:**  Note the loss of the model and adjust the parameters(weights and bias)\n",
        "   * inside optimizer we get two parameters :\n",
        "   1. params : the model parameters i would like to optimize, Ex. - `params=model_0.parameters()\n",
        "   2. lr (learning rate) : how much steps the optimizer should take\n",
        "\n",
        "specially for pytorch we need:\n",
        "* a training loop\n",
        "* a testing loop\n"
      ]
    },
    {
      "cell_type": "code",
      "execution_count": 18,
      "metadata": {
        "colab": {
          "base_uri": "https://localhost:8080/"
        },
        "id": "q8vk8lKHEUqT",
        "outputId": "8e29f4ee-819d-459f-8cb2-079f2df00f14"
      },
      "outputs": [
        {
          "output_type": "execute_result",
          "data": {
            "text/plain": [
              "[Parameter containing:\n",
              " tensor([0.3367], requires_grad=True),\n",
              " Parameter containing:\n",
              " tensor([0.1288], requires_grad=True)]"
            ]
          },
          "metadata": {},
          "execution_count": 18
        }
      ],
      "source": [
        "list(model_0.parameters())"
      ]
    },
    {
      "cell_type": "code",
      "execution_count": 19,
      "metadata": {
        "colab": {
          "base_uri": "https://localhost:8080/"
        },
        "id": "59P-PtRgEUm3",
        "outputId": "2187b0f8-c86e-4905-bb6e-d665c5e6dede"
      },
      "outputs": [
        {
          "output_type": "execute_result",
          "data": {
            "text/plain": [
              "OrderedDict([('weights', tensor([0.3367])), ('bias', tensor([0.1288]))])"
            ]
          },
          "metadata": {},
          "execution_count": 19
        }
      ],
      "source": [
        "# check our model's parameters\n",
        "model_0.state_dict()"
      ]
    },
    {
      "cell_type": "code",
      "execution_count": 20,
      "metadata": {
        "colab": {
          "base_uri": "https://localhost:8080/"
        },
        "id": "PCzfP7SYeqhF",
        "outputId": "a3321984-5f00-473f-9b00-183ebdaf8a64"
      },
      "outputs": [
        {
          "output_type": "execute_result",
          "data": {
            "text/plain": [
              "tensor(0.4945)"
            ]
          },
          "metadata": {},
          "execution_count": 20
        }
      ],
      "source": [
        "# method 1 for finding the MAE loss\n",
        "MAE_loss = torch.mean(torch.abs(y_preds-y_test))\n",
        "MAE_loss"
      ]
    },
    {
      "cell_type": "code",
      "execution_count": 21,
      "metadata": {
        "id": "sNBOoea9EIhF"
      },
      "outputs": [],
      "source": [
        "# setup the loss function\n",
        "loss_fn = nn.L1Loss()\n",
        "\n",
        "# setup the optimizer(stochastic gradient descent)\n",
        "optimizer = torch.optim.SGD(params= model_0.parameters(),\n",
        "                            lr=0.0001 ) #lr - learning rate"
      ]
    },
    {
      "cell_type": "markdown",
      "metadata": {
        "id": "YV9qgnHjPp74"
      },
      "source": [
        "Q. Which loss function and optimizer i should use ?\n",
        "\n",
        "A: conditoinal , problem specific.\n",
        "\n",
        "Ex: regression problem (like ours)\n",
        "\n",
        "    -> loss function - `nn.L1Loss()`                                 \n",
        "                                   \n",
        "    -> optimizer - `torch.optim.SGD()`\n",
        "\n",
        "  But for classification problems we use binary cross entropy loss - `nn.BCELoss`"
      ]
    },
    {
      "cell_type": "markdown",
      "metadata": {
        "id": "DBPWSt0mPp5Q"
      },
      "source": [
        "### Building a training loop and testing loop in PyTorch\n",
        "\n",
        "A. A couple of things we need in training loop\n",
        "0. Loop through data\n",
        "1. Forward pass ( data moving through our model's `forward()` functions) to make predictions on data - is called **forward propagation**\n",
        "2. calculate the loss (compare forward pass predictions to ground truth labels)\n",
        "3. Optimize zero grad\n",
        "4. Loss backward - move backwards through the network to calcualte the gradients of each of the parameters of our model with respect to the loss (**backpropagation**)\n",
        "5. Optimizer step - use the optimizer to adjust our model's parameters to try and improve the loss(**gradient descent**)\n"
      ]
    },
    {
      "cell_type": "code",
      "execution_count": 22,
      "metadata": {
        "colab": {
          "base_uri": "https://localhost:8080/"
        },
        "id": "0PxwglANYWvB",
        "outputId": "091a5c07-de6f-44ef-fe44-e83e9d4cd928"
      },
      "outputs": [
        {
          "output_type": "execute_result",
          "data": {
            "text/plain": [
              "[Parameter containing:\n",
              " tensor([0.3367], requires_grad=True),\n",
              " Parameter containing:\n",
              " tensor([0.1288], requires_grad=True)]"
            ]
          },
          "metadata": {},
          "execution_count": 22
        }
      ],
      "source": [
        "list(model_0.parameters())"
      ]
    },
    {
      "cell_type": "code",
      "execution_count": 23,
      "metadata": {
        "colab": {
          "base_uri": "https://localhost:8080/"
        },
        "id": "dsCJleOwPp2s",
        "outputId": "efb94e99-7681-458b-8775-875eb21fd8a8"
      },
      "outputs": [
        {
          "output_type": "stream",
          "name": "stdout",
          "text": [
            "Epoch: 0 | MAE Train Loss: 0.31288138031959534 | MAE Test Loss: 0.4944015145301819\n",
            "Epoch: 10 | MAE Train Loss: 0.31172919273376465 | MAE Test Loss: 0.49305421113967896\n",
            "Epoch: 20 | MAE Train Loss: 0.31057703495025635 | MAE Test Loss: 0.4917070269584656\n",
            "Epoch: 30 | MAE Train Loss: 0.30942484736442566 | MAE Test Loss: 0.4903597831726074\n",
            "Epoch: 40 | MAE Train Loss: 0.30827268958091736 | MAE Test Loss: 0.48901262879371643\n",
            "Epoch: 50 | MAE Train Loss: 0.30712056159973145 | MAE Test Loss: 0.4876653552055359\n",
            "Epoch: 60 | MAE Train Loss: 0.30596840381622314 | MAE Test Loss: 0.4863181710243225\n",
            "Epoch: 70 | MAE Train Loss: 0.30481624603271484 | MAE Test Loss: 0.48497089743614197\n",
            "Epoch: 80 | MAE Train Loss: 0.30366405844688416 | MAE Test Loss: 0.483623743057251\n",
            "Epoch: 90 | MAE Train Loss: 0.30251190066337585 | MAE Test Loss: 0.4822765290737152\n"
          ]
        }
      ],
      "source": [
        "torch.manual_seed(42)\n",
        "\n",
        "# Set the number of epochs (how many times the model will pass over the training data)\n",
        "epochs = 100\n",
        "\n",
        "# Create empty loss lists to track values\n",
        "train_loss_values = []\n",
        "test_loss_values = []\n",
        "epoch_count = []\n",
        "\n",
        "for epoch in range(epochs):\n",
        "    ### Training\n",
        "\n",
        "    # Put model in training mode (this is the default state of a model)\n",
        "    model_0.train()\n",
        "\n",
        "    # 1. Forward pass on train data using the forward() method inside\n",
        "    y_pred = model_0(X_train)\n",
        "    # print(y_pred)\n",
        "\n",
        "    # 2. Calculate the loss (how different are our models predictions to the ground truth)\n",
        "    loss = loss_fn(y_pred, y_train)\n",
        "\n",
        "    # 3. Zero grad of the optimizer\n",
        "    optimizer.zero_grad()\n",
        "\n",
        "    # 4. Loss backwards\n",
        "    loss.backward()\n",
        "\n",
        "    # 5. Progress the optimizer\n",
        "    optimizer.step()\n",
        "\n",
        "    ### Testing\n",
        "\n",
        "    # Put the model in evaluation mode\n",
        "    model_0.eval()\n",
        "\n",
        "    with torch.inference_mode():\n",
        "      # 1. Forward pass on test data\n",
        "      test_pred = model_0(X_test)\n",
        "\n",
        "      # 2. Caculate loss on test data\n",
        "      test_loss = loss_fn(test_pred, y_test.type(torch.float)) # predictions come in torch.float datatype, so comparisons need to be done with tensors of the same type\n",
        "\n",
        "      # Print out what's happening\n",
        "      if epoch % 10 == 0:\n",
        "            epoch_count.append(epoch)\n",
        "            train_loss_values.append(loss.numpy())\n",
        "            test_loss_values.append(test_loss.numpy())\n",
        "            print(f\"Epoch: {epoch} | MAE Train Loss: {loss} | MAE Test Loss: {test_loss}\")"
      ]
    },
    {
      "cell_type": "code",
      "execution_count": 24,
      "metadata": {
        "id": "vfu8ZdrSygvo"
      },
      "outputs": [],
      "source": [
        "with torch.inference_mode():\n",
        "  y_preds_new = model_0(X_test)"
      ]
    },
    {
      "cell_type": "code",
      "execution_count": 25,
      "metadata": {
        "id": "sd8_yT9mygtI",
        "outputId": "64e0fb05-2b76-4e36-aaba-ddb4dc679eac",
        "colab": {
          "base_uri": "https://localhost:8080/",
          "height": 599
        }
      },
      "outputs": [
        {
          "output_type": "display_data",
          "data": {
            "text/plain": [
              "<Figure size 1000x700 with 1 Axes>"
            ],
            "image/png": "[encoded data removed]"
          },
          "metadata": {}
        }
      ],
      "source": [
        "plot_predictions(predictions=y_preds)"
      ]
    },
    {
      "cell_type": "markdown",
      "source": [
        "😒😒😒 TOO MUCH INCORRECT PREDICTIONS , WE WILL TAKE REVENGE"
      ],
      "metadata": {
        "id": "XHWvTR33OsVH"
      }
    },
    {
      "cell_type": "code",
      "execution_count": 26,
      "metadata": {
        "id": "8Vd-3bq-ygqR",
        "outputId": "1e0fe5bb-e290-43f5-ffe2-06ba47707216",
        "colab": {
          "base_uri": "https://localhost:8080/",
          "height": 599
        }
      },
      "outputs": [
        {
          "output_type": "display_data",
          "data": {
            "text/plain": [
              "<Figure size 1000x700 with 1 Axes>"
            ],
            "image/png": "[encoded data removed]"
          },
          "metadata": {}
        }
      ],
      "source": [
        "plot_predictions(predictions=y_preds_new)"
      ]
    },
    {
      "cell_type": "markdown",
      "source": [
        "WOW! 😊😊 WE GOT EXACT PREDICTION AS THE OUTPUT , IF EPOCHS WILL BE 200"
      ],
      "metadata": {
        "id": "FDvUiIr3ObnV"
      }
    },
    {
      "cell_type": "code",
      "source": [
        "import numpy as np"
      ],
      "metadata": {
        "id": "DxLJQiav_WiE"
      },
      "execution_count": 27,
      "outputs": []
    },
    {
      "cell_type": "code",
      "source": [
        "# We will plot the loss curves\n",
        "plt.plot(epoch_count, train_loss_values, label='Train loss')\n",
        "plt.plot(epoch_count, test_loss_values, label =\"Test loss\")\n",
        "plt.title(\"Training and Test loss curves \")\n",
        "plt.ylabel('loss')\n",
        "plt.xlabel('Epochs')\n",
        "plt.legend();"
      ],
      "metadata": {
        "id": "0VfuHNGgPHMt",
        "colab": {
          "base_uri": "https://localhost:8080/",
          "height": 472
        },
        "outputId": "74127d5c-d43c-4db7-e223-9168125e3c73"
      },
      "execution_count": 28,
      "outputs": [
        {
          "output_type": "display_data",
          "data": {
            "text/plain": [
              "<Figure size 640x480 with 1 Axes>"
            ],
            "image/png": "[encoded data removed]"
          },
          "metadata": {}
        }
      ]
    },
    {
      "cell_type": "markdown",
      "source": [
        "# Saving and Loading a model in PyTorch\n",
        "\n",
        "Three main methods:\n",
        "\n",
        "1. `torch.save()` - Save the model in Pickel format\n",
        "\n",
        "2. `torch.load()` - Load the model\n",
        "\n",
        "3. `torch.nn.Module.load_state_dict()` - load a model's saved state dictionary\n",
        "\n"
      ],
      "metadata": {
        "id": "0to1mdvJmrZz"
      }
    },
    {
      "cell_type": "markdown",
      "source": [
        "## Saving the model"
      ],
      "metadata": {
        "id": "9vyhnrXtwbdT"
      }
    },
    {
      "cell_type": "code",
      "source": [
        "# saving model\n",
        "from pathlib import Path\n",
        "\n",
        "# 1. Create models Directory\n",
        "MODEL_PATH=Path(\"models\")\n",
        "MODEL_PATH.mkdir(parents=True, exist_ok=True)\n",
        "\n",
        "#2. Create model save path\n",
        "MODEL_NAME=\"01_Pytorch_workfrow_model_0.pt\"\n",
        "MODEL_SAVE_PATH=MODEL_PATH / MODEL_NAME\n",
        "\n",
        "# 3. Save the model state dict\n",
        "print(f\"saving model to: {MODEL_PATH}\")\n",
        "torch.save(obj=model_0.state_dict(),\n",
        "           f = MODEL_SAVE_PATH)"
      ],
      "metadata": {
        "id": "rXT74VnJPHJ5",
        "colab": {
          "base_uri": "https://localhost:8080/"
        },
        "outputId": "9a9f763a-0d70-4393-bf99-d3673aa61df1"
      },
      "execution_count": 29,
      "outputs": [
        {
          "output_type": "stream",
          "name": "stdout",
          "text": [
            "saving model to: models\n"
          ]
        }
      ]
    },
    {
      "cell_type": "code",
      "source": [
        "# To check in the folder like ubuntu\n",
        "!ls -l models"
      ],
      "metadata": {
        "id": "NFheSVU4PHGl",
        "colab": {
          "base_uri": "https://localhost:8080/"
        },
        "outputId": "510a6499-60ff-46a4-c815-2c179137eaf7"
      },
      "execution_count": 30,
      "outputs": [
        {
          "output_type": "stream",
          "name": "stdout",
          "text": [
            "total 4\n",
            "-rw-r--r-- 1 root root 1680 Nov 19 11:52 01_Pytorch_workfrow_model_0.pt\n"
          ]
        }
      ]
    },
    {
      "cell_type": "markdown",
      "source": [
        "## Loading the saved model\n"
      ],
      "metadata": {
        "id": "n9Ay1fl8wewT"
      }
    },
    {
      "cell_type": "code",
      "source": [
        "model_0.state_dict()"
      ],
      "metadata": {
        "id": "aLTDJSRpPHDZ",
        "colab": {
          "base_uri": "https://localhost:8080/"
        },
        "outputId": "03af5473-69e4-468f-e6a2-d9fa108b0fcf"
      },
      "execution_count": 31,
      "outputs": [
        {
          "output_type": "execute_result",
          "data": {
            "text/plain": [
              "OrderedDict([('weights', tensor([0.3406])), ('bias', tensor([0.1388]))])"
            ]
          },
          "metadata": {},
          "execution_count": 31
        }
      ]
    },
    {
      "cell_type": "code",
      "source": [
        "# to load the save state_dict\n",
        "loaded_model_0 = LinearRegressionModel()\n",
        "\n",
        "loaded_model_0.load_state_dict(torch.load(f=MODEL_SAVE_PATH))"
      ],
      "metadata": {
        "id": "v1LD7xvtPG_o",
        "colab": {
          "base_uri": "https://localhost:8080/"
        },
        "outputId": "373b318c-4455-43ae-e7b9-ffbd25122bad"
      },
      "execution_count": 32,
      "outputs": [
        {
          "output_type": "execute_result",
          "data": {
            "text/plain": [
              "<All keys matched successfully>"
            ]
          },
          "metadata": {},
          "execution_count": 32
        }
      ]
    },
    {
      "cell_type": "code",
      "source": [
        "loaded_model_0.state_dict()"
      ],
      "metadata": {
        "id": "Ed5crl8oPG7F",
        "colab": {
          "base_uri": "https://localhost:8080/"
        },
        "outputId": "94c4739a-e9c3-4818-cae7-a0ff8a90a366"
      },
      "execution_count": 33,
      "outputs": [
        {
          "output_type": "execute_result",
          "data": {
            "text/plain": [
              "OrderedDict([('weights', tensor([0.3406])), ('bias', tensor([0.1388]))])"
            ]
          },
          "metadata": {},
          "execution_count": 33
        }
      ]
    },
    {
      "cell_type": "code",
      "source": [
        "# Make some predictions with our loaded model\n",
        "loaded_model_0.eval()\n",
        "with torch.inference_mode():\n",
        "  loaded_model_preds = loaded_model_0(X_test)\n",
        "\n",
        "loaded_model_preds"
      ],
      "metadata": {
        "id": "HDj1WoGOOMrU",
        "colab": {
          "base_uri": "https://localhost:8080/"
        },
        "outputId": "291179ac-4b9a-43c7-8087-e07d09186fdf"
      },
      "execution_count": 34,
      "outputs": [
        {
          "output_type": "execute_result",
          "data": {
            "text/plain": [
              "tensor([[0.4113],\n",
              "        [0.4181],\n",
              "        [0.4249],\n",
              "        [0.4317],\n",
              "        [0.4385],\n",
              "        [0.4453],\n",
              "        [0.4522],\n",
              "        [0.4590],\n",
              "        [0.4658],\n",
              "        [0.4726]])"
            ]
          },
          "metadata": {},
          "execution_count": 34
        }
      ]
    },
    {
      "cell_type": "code",
      "source": [
        "# Make some models preds\n",
        "model_0.eval()\n",
        "with torch.inference_mode():\n",
        "  y_preds = loaded_model_0(X_test)\n",
        "\n",
        "loaded_model_preds"
      ],
      "metadata": {
        "colab": {
          "base_uri": "https://localhost:8080/"
        },
        "id": "m7aIuzzx1Hpk",
        "outputId": "4ef6485e-305f-4da6-b420-25247ddc2e69"
      },
      "execution_count": 35,
      "outputs": [
        {
          "output_type": "execute_result",
          "data": {
            "text/plain": [
              "tensor([[0.4113],\n",
              "        [0.4181],\n",
              "        [0.4249],\n",
              "        [0.4317],\n",
              "        [0.4385],\n",
              "        [0.4453],\n",
              "        [0.4522],\n",
              "        [0.4590],\n",
              "        [0.4658],\n",
              "        [0.4726]])"
            ]
          },
          "metadata": {},
          "execution_count": 35
        }
      ]
    },
    {
      "cell_type": "code",
      "source": [
        "# Compare with original model\n",
        "y_preds == loaded_model_preds"
      ],
      "metadata": {
        "colab": {
          "base_uri": "https://localhost:8080/"
        },
        "id": "MeC51jvi0jOr",
        "outputId": "72d89e85-f90c-428a-bf3d-aa29915e8a14"
      },
      "execution_count": 36,
      "outputs": [
        {
          "output_type": "execute_result",
          "data": {
            "text/plain": [
              "tensor([[True],\n",
              "        [True],\n",
              "        [True],\n",
              "        [True],\n",
              "        [True],\n",
              "        [True],\n",
              "        [True],\n",
              "        [True],\n",
              "        [True],\n",
              "        [True]])"
            ]
          },
          "metadata": {},
          "execution_count": 36
        }
      ]
    },
    {
      "cell_type": "markdown",
      "source": [
        "How and why this happened i don't know !!!"
      ],
      "metadata": {
        "id": "sj_1YWye1d-N"
      }
    },
    {
      "cell_type": "markdown",
      "source": [
        "#6. Putting all together\n",
        "\n",
        "apply whatever we learnt"
      ],
      "metadata": {
        "id": "kaUUb6kMiIHa"
      }
    },
    {
      "cell_type": "code",
      "source": [
        "#Import Pytorch, nn and Matplotlib\n",
        "import torch\n",
        "from torch import nn\n",
        "import matplotlib.pyplot as plt\n",
        "\n",
        "#Check pytorch version\n",
        "torch.__version__"
      ],
      "metadata": {
        "id": "h1Pzi5wP0vvb",
        "colab": {
          "base_uri": "https://localhost:8080/",
          "height": 35
        },
        "outputId": "d05b17b4-b9ad-4640-fc4d-d0ccde9f192f"
      },
      "execution_count": 37,
      "outputs": [
        {
          "output_type": "execute_result",
          "data": {
            "text/plain": [
              "'2.1.0+cu118'"
            ],
            "application/vnd.google.colaboratory.intrinsic+json": {
              "type": "string"
            }
          },
          "metadata": {},
          "execution_count": 37
        }
      ]
    },
    {
      "cell_type": "markdown",
      "source": [
        "Create device-agnostic code\n",
        "\n",
        "Means if there is GPU available then use it or use CPU"
      ],
      "metadata": {
        "id": "nL8xmTQplHm7"
      }
    },
    {
      "cell_type": "code",
      "source": [
        "# Setup device agnostic code\n",
        "device = \"cuda\" if torch.cuda.is_available() else \"cpu\"\n",
        "print(f\"Using device: {device}\")"
      ],
      "metadata": {
        "colab": {
          "base_uri": "https://localhost:8080/"
        },
        "id": "wWfT68_EktCi",
        "outputId": "a2057dee-93fa-4a8e-adcf-bc17ba9cb39b"
      },
      "execution_count": 38,
      "outputs": [
        {
          "output_type": "stream",
          "name": "stdout",
          "text": [
            "Using device: cuda\n"
          ]
        }
      ]
    },
    {
      "cell_type": "markdown",
      "source": [
        "### 6.1 Data"
      ],
      "metadata": {
        "id": "ohDjjSz82E0z"
      }
    },
    {
      "cell_type": "markdown",
      "source": [
        "Create some data using the linear regression formula : y = mx + c\n",
        "\n",
        "\n",
        "m = weight,\n",
        "c = bias"
      ],
      "metadata": {
        "id": "5eJCKsuJklJ8"
      }
    },
    {
      "cell_type": "code",
      "source": [
        "# Deciding the weight and bias\n",
        "m = 0.7 #weight\n",
        "c = 0.3 #bias\n",
        "\n",
        "#Create arange values\n",
        "start=0\n",
        "end=1\n",
        "step=0.02\n",
        "\n",
        "#Create x and y (features and labels)\n",
        "x= torch.arange(start, end, step).unsqueeze(dim=1)\n",
        "y= m*x+c"
      ],
      "metadata": {
        "id": "gcW3b2gLkrEa"
      },
      "execution_count": 39,
      "outputs": []
    },
    {
      "cell_type": "code",
      "source": [
        "x[:5], y[:5]"
      ],
      "metadata": {
        "colab": {
          "base_uri": "https://localhost:8080/"
        },
        "id": "uEdztq6t2QyM",
        "outputId": "6b3b6fab-f049-4c61-e876-6d18d6b2c8ef"
      },
      "execution_count": 40,
      "outputs": [
        {
          "output_type": "execute_result",
          "data": {
            "text/plain": [
              "(tensor([[0.0000],\n",
              "         [0.0200],\n",
              "         [0.0400],\n",
              "         [0.0600],\n",
              "         [0.0800]]),\n",
              " tensor([[0.3000],\n",
              "         [0.3140],\n",
              "         [0.3280],\n",
              "         [0.3420],\n",
              "         [0.3560]]))"
            ]
          },
          "metadata": {},
          "execution_count": 40
        }
      ]
    },
    {
      "cell_type": "code",
      "source": [
        "# Splitting the data\n",
        "train_split = int(0.8 * len(x))\n",
        "x_train, y_train = x[:train_split], y[:train_split]\n",
        "x_test, y_test = x[train_split:],y[train_split:]\n",
        "len(x_train), len(y_train) , len(x_test) , len(y_test)"
      ],
      "metadata": {
        "colab": {
          "base_uri": "https://localhost:8080/"
        },
        "id": "rlJRhanu2QvU",
        "outputId": "71f86a3c-fe83-4a98-98da-bbbc490da5a2"
      },
      "execution_count": 41,
      "outputs": [
        {
          "output_type": "execute_result",
          "data": {
            "text/plain": [
              "(40, 40, 10, 10)"
            ]
          },
          "metadata": {},
          "execution_count": 41
        }
      ]
    },
    {
      "cell_type": "code",
      "source": [
        "# Plot the data\n",
        "\n",
        "plot_predictions(x_train, y_train, x_test, y_test)"
      ],
      "metadata": {
        "colab": {
          "base_uri": "https://localhost:8080/",
          "height": 599
        },
        "id": "EvNmVsv62Qrx",
        "outputId": "04505c13-77dd-4bb2-c96d-9e212eef99bf"
      },
      "execution_count": 42,
      "outputs": [
        {
          "output_type": "display_data",
          "data": {
            "text/plain": [
              "<Figure size 1000x700 with 1 Axes>"
            ],
            "image/png": "[encoded data removed]"
          },
          "metadata": {}
        }
      ]
    },
    {
      "cell_type": "markdown",
      "source": [
        "### 6.2 Building a pytorch linear regression model"
      ],
      "metadata": {
        "id": "PcLQG7yE8-2q"
      }
    },
    {
      "cell_type": "code",
      "source": [
        "# Create a linear model by subclassing the model parameters\n",
        "class LinearRegressionModelV2(nn.Module):\n",
        "  def __init__(self):\n",
        "    super().__init__()\n",
        "    # Use nn.Linear() for creating the model parameters\n",
        "    self.linear_layer = nn.Linear(in_features=1,\n",
        "                                  out_features=1)\n",
        "\n",
        "  def forward(self, x: torch.Tensor) -> torch.Tensor:\n",
        "    return self.linear_layer(x)\n",
        "\n",
        "# Set the manual seed\n",
        "torch.manual_seed(42)\n",
        "model_1 = LinearRegressionModelV2()\n",
        "model_1, model_1.state_dict()"
      ],
      "metadata": {
        "id": "R-qz7l_w9NiK",
        "colab": {
          "base_uri": "https://localhost:8080/"
        },
        "outputId": "5cd7fcb4-c19f-47a5-9b31-ae22eb39b3b0"
      },
      "execution_count": 43,
      "outputs": [
        {
          "output_type": "execute_result",
          "data": {
            "text/plain": [
              "(LinearRegressionModelV2(\n",
              "   (linear_layer): Linear(in_features=1, out_features=1, bias=True)\n",
              " ),\n",
              " OrderedDict([('linear_layer.weight', tensor([[0.7645]])),\n",
              "              ('linear_layer.bias', tensor([0.8300]))]))"
            ]
          },
          "metadata": {},
          "execution_count": 43
        }
      ]
    },
    {
      "cell_type": "code",
      "source": [
        "# Check the model current device\n",
        "next(model_1.parameters()).device"
      ],
      "metadata": {
        "colab": {
          "base_uri": "https://localhost:8080/"
        },
        "id": "YZixQRVe0Y01",
        "outputId": "421d55a4-9fe9-4487-f2c8-874fb5b806d2"
      },
      "execution_count": 44,
      "outputs": [
        {
          "output_type": "execute_result",
          "data": {
            "text/plain": [
              "device(type='cpu')"
            ]
          },
          "metadata": {},
          "execution_count": 44
        }
      ]
    },
    {
      "cell_type": "code",
      "source": [
        "# Set the model to the target device\n",
        "model_1.to(device)\n",
        "next(model_1.parameters()).device"
      ],
      "metadata": {
        "colab": {
          "base_uri": "https://localhost:8080/"
        },
        "id": "W8Wd-g502XFU",
        "outputId": "e8a55f76-aa4a-4b29-b569-7af5598fd12f"
      },
      "execution_count": 45,
      "outputs": [
        {
          "output_type": "execute_result",
          "data": {
            "text/plain": [
              "device(type='cuda', index=0)"
            ]
          },
          "metadata": {},
          "execution_count": 45
        }
      ]
    },
    {
      "cell_type": "code",
      "source": [
        "# Models parameter\n",
        "model_1.state_dict()"
      ],
      "metadata": {
        "colab": {
          "base_uri": "https://localhost:8080/"
        },
        "id": "v4rjGpNg3mws",
        "outputId": "d344048e-7c3d-47cf-ba45-70402a3e8820"
      },
      "execution_count": 46,
      "outputs": [
        {
          "output_type": "execute_result",
          "data": {
            "text/plain": [
              "OrderedDict([('linear_layer.weight', tensor([[0.7645]], device='cuda:0')),\n",
              "             ('linear_layer.bias', tensor([0.8300], device='cuda:0'))])"
            ]
          },
          "metadata": {},
          "execution_count": 46
        }
      ]
    },
    {
      "cell_type": "markdown",
      "source": [
        "27 oct 2023\n"
      ],
      "metadata": {
        "id": "mMYNchxY6C_w"
      }
    },
    {
      "cell_type": "markdown",
      "source": [
        "###6.3 Training\n",
        "\n",
        "for training we need:\n",
        "* Loss function\n",
        "* Optimizer\n",
        "* Training loop\n",
        "* Testing loop"
      ],
      "metadata": {
        "id": "GZQhmmHZ2smb"
      }
    },
    {
      "cell_type": "code",
      "source": [
        "# setup the loss function\n",
        "loss_fn = nn.L1Loss() #same as MAE\n",
        "\n",
        "#Setup our optimizer\n",
        "optimizer= torch.optim.SGD(params=model_1.parameters(),\n",
        "                           lr = 0.01)"
      ],
      "metadata": {
        "id": "3SXZ3Ujj2YhM"
      },
      "execution_count": 47,
      "outputs": []
    },
    {
      "cell_type": "code",
      "source": [
        "# let's write a training loop\n",
        "torch.manual_seed(42)\n",
        "\n",
        "epochs = 500\n",
        "\n",
        "# put the data on the target device (device agnostic code for data)\n",
        "x_train = x_train.to(device)\n",
        "y_train = y_train.to(device)\n",
        "x_test = x_test.to(device)\n",
        "y_test = y_test.to(device)\n",
        "\n",
        "\n",
        "for epoch in range (epochs):\n",
        "  model_1.train()\n",
        "\n",
        "  # 1. forward pass\n",
        "  y_pred = model_1(x_train)\n",
        "\n",
        "  # 2. calculate the loss\n",
        "  loss = loss_fn(y_pred, y_train)\n",
        "\n",
        "  # 3. optimizer zero grad\n",
        "  optimizer.zero_grad()\n",
        "\n",
        "  # 4. perform dackpropagation\n",
        "  loss.backward()\n",
        "\n",
        "  # 5. optimizer step\n",
        "  optimizer.step()\n",
        "\n",
        "  ### testing\n",
        "  model_1.eval()\n",
        "  with torch.inference_mode():\n",
        "    test_pred = model_1(x_test)\n",
        "\n",
        "    test_loss = loss_fn(test_pred, y_test)\n",
        "\n",
        "\n",
        "  # print out what's happening\n",
        "\n",
        "  if epoch & 10 == 0 :\n",
        "    print(f\"epoch: {epoch} | loss ; {loss} | test loss : {test_loss}\")"
      ],
      "metadata": {
        "id": "lZggCos72YeE",
        "colab": {
          "base_uri": "https://localhost:8080/"
        },
        "outputId": "9529db24-303e-49c1-8748-eddb871d153d"
      },
      "execution_count": 48,
      "outputs": [
        {
          "output_type": "stream",
          "name": "stdout",
          "text": [
            "epoch: 0 | loss ; 0.5551779866218567 | test loss : 0.5739762187004089\n",
            "epoch: 1 | loss ; 0.5436570048332214 | test loss : 0.560505211353302\n",
            "epoch: 4 | loss ; 0.5090939998626709 | test loss : 0.5200923085212708\n",
            "epoch: 5 | loss ; 0.49757298827171326 | test loss : 0.5066213011741638\n",
            "epoch: 16 | loss ; 0.3708421289920807 | test loss : 0.35844048857688904\n",
            "epoch: 17 | loss ; 0.35932111740112305 | test loss : 0.3449695110321045\n",
            "epoch: 20 | loss ; 0.3247582018375397 | test loss : 0.30455657839775085\n",
            "epoch: 21 | loss ; 0.31323719024658203 | test loss : 0.2910855710506439\n",
            "epoch: 32 | loss ; 0.18650634586811066 | test loss : 0.14290474355220795\n",
            "epoch: 33 | loss ; 0.1749853491783142 | test loss : 0.1294337660074234\n",
            "epoch: 36 | loss ; 0.14042238891124725 | test loss : 0.08902084082365036\n",
            "epoch: 37 | loss ; 0.128901407122612 | test loss : 0.07554984837770462\n",
            "epoch: 48 | loss ; 0.025835609063506126 | test loss : 0.044442154467105865\n",
            "epoch: 49 | loss ; 0.02469830960035324 | test loss : 0.046863656491041183\n",
            "epoch: 52 | loss ; 0.022868333384394646 | test loss : 0.04911517724394798\n",
            "epoch: 53 | loss ; 0.022455641999840736 | test loss : 0.04939587041735649\n",
            "epoch: 64 | loss ; 0.01858464628458023 | test loss : 0.04276885464787483\n",
            "epoch: 65 | loss ; 0.018237387761473656 | test loss : 0.04166685417294502\n",
            "epoch: 68 | loss ; 0.017206626012921333 | test loss : 0.03973459079861641\n",
            "epoch: 69 | loss ; 0.016866983845829964 | test loss : 0.0386325903236866\n",
            "epoch: 80 | loss ; 0.013089174404740334 | test loss : 0.02994490973651409\n",
            "epoch: 81 | loss ; 0.012742983177304268 | test loss : 0.028842901811003685\n",
            "epoch: 84 | loss ; 0.011711154133081436 | test loss : 0.02691064588725567\n",
            "epoch: 85 | loss ; 0.01137258019298315 | test loss : 0.025808637961745262\n",
            "epoch: 96 | loss ; 0.007593703921884298 | test loss : 0.017120976001024246\n",
            "epoch: 97 | loss ; 0.0072485716082155704 | test loss : 0.01601896993815899\n",
            "epoch: 100 | loss ; 0.006215683650225401 | test loss : 0.014086711220443249\n",
            "epoch: 101 | loss ; 0.005878167692571878 | test loss : 0.012984705157577991\n",
            "epoch: 112 | loss ; 0.00209822878241539 | test loss : 0.004297036211937666\n",
            "epoch: 113 | loss ; 0.0017541624838486314 | test loss : 0.0031950236298143864\n",
            "epoch: 116 | loss ; 0.0012645035749301314 | test loss : 0.013801801018416882\n",
            "epoch: 117 | loss ; 0.010256479494273663 | test loss : 0.00033081771107390523\n",
            "epoch: 128 | loss ; 0.0012645035749301314 | test loss : 0.013801801018416882\n",
            "epoch: 129 | loss ; 0.010256479494273663 | test loss : 0.00033081771107390523\n",
            "epoch: 132 | loss ; 0.0012645035749301314 | test loss : 0.013801801018416882\n",
            "epoch: 133 | loss ; 0.010256479494273663 | test loss : 0.00033081771107390523\n",
            "epoch: 144 | loss ; 0.0012645035749301314 | test loss : 0.013801801018416882\n",
            "epoch: 145 | loss ; 0.010256479494273663 | test loss : 0.00033081771107390523\n",
            "epoch: 148 | loss ; 0.0012645035749301314 | test loss : 0.013801801018416882\n",
            "epoch: 149 | loss ; 0.010256479494273663 | test loss : 0.00033081771107390523\n",
            "epoch: 160 | loss ; 0.0012645035749301314 | test loss : 0.013801801018416882\n",
            "epoch: 161 | loss ; 0.010256479494273663 | test loss : 0.00033081771107390523\n",
            "epoch: 164 | loss ; 0.0012645035749301314 | test loss : 0.013801801018416882\n",
            "epoch: 165 | loss ; 0.010256479494273663 | test loss : 0.00033081771107390523\n",
            "epoch: 176 | loss ; 0.0012645035749301314 | test loss : 0.013801801018416882\n",
            "epoch: 177 | loss ; 0.010256479494273663 | test loss : 0.00033081771107390523\n",
            "epoch: 180 | loss ; 0.0012645035749301314 | test loss : 0.013801801018416882\n",
            "epoch: 181 | loss ; 0.010256479494273663 | test loss : 0.00033081771107390523\n",
            "epoch: 192 | loss ; 0.0012645035749301314 | test loss : 0.013801801018416882\n",
            "epoch: 193 | loss ; 0.010256479494273663 | test loss : 0.00033081771107390523\n",
            "epoch: 196 | loss ; 0.0012645035749301314 | test loss : 0.013801801018416882\n",
            "epoch: 197 | loss ; 0.010256479494273663 | test loss : 0.00033081771107390523\n",
            "epoch: 208 | loss ; 0.0012645035749301314 | test loss : 0.013801801018416882\n",
            "epoch: 209 | loss ; 0.010256479494273663 | test loss : 0.00033081771107390523\n",
            "epoch: 212 | loss ; 0.0012645035749301314 | test loss : 0.013801801018416882\n",
            "epoch: 213 | loss ; 0.010256479494273663 | test loss : 0.00033081771107390523\n",
            "epoch: 224 | loss ; 0.0012645035749301314 | test loss : 0.013801801018416882\n",
            "epoch: 225 | loss ; 0.010256479494273663 | test loss : 0.00033081771107390523\n",
            "epoch: 228 | loss ; 0.0012645035749301314 | test loss : 0.013801801018416882\n",
            "epoch: 229 | loss ; 0.010256479494273663 | test loss : 0.00033081771107390523\n",
            "epoch: 240 | loss ; 0.0012645035749301314 | test loss : 0.013801801018416882\n",
            "epoch: 241 | loss ; 0.010256479494273663 | test loss : 0.00033081771107390523\n",
            "epoch: 244 | loss ; 0.0012645035749301314 | test loss : 0.013801801018416882\n",
            "epoch: 245 | loss ; 0.010256479494273663 | test loss : 0.00033081771107390523\n",
            "epoch: 256 | loss ; 0.0012645035749301314 | test loss : 0.013801801018416882\n",
            "epoch: 257 | loss ; 0.010256479494273663 | test loss : 0.00033081771107390523\n",
            "epoch: 260 | loss ; 0.0012645035749301314 | test loss : 0.013801801018416882\n",
            "epoch: 261 | loss ; 0.010256479494273663 | test loss : 0.00033081771107390523\n",
            "epoch: 272 | loss ; 0.0012645035749301314 | test loss : 0.013801801018416882\n",
            "epoch: 273 | loss ; 0.010256479494273663 | test loss : 0.00033081771107390523\n",
            "epoch: 276 | loss ; 0.0012645035749301314 | test loss : 0.013801801018416882\n",
            "epoch: 277 | loss ; 0.010256479494273663 | test loss : 0.00033081771107390523\n",
            "epoch: 288 | loss ; 0.0012645035749301314 | test loss : 0.013801801018416882\n",
            "epoch: 289 | loss ; 0.010256479494273663 | test loss : 0.00033081771107390523\n",
            "epoch: 292 | loss ; 0.0012645035749301314 | test loss : 0.013801801018416882\n",
            "epoch: 293 | loss ; 0.010256479494273663 | test loss : 0.00033081771107390523\n",
            "epoch: 304 | loss ; 0.0012645035749301314 | test loss : 0.013801801018416882\n",
            "epoch: 305 | loss ; 0.010256479494273663 | test loss : 0.00033081771107390523\n",
            "epoch: 308 | loss ; 0.0012645035749301314 | test loss : 0.013801801018416882\n",
            "epoch: 309 | loss ; 0.010256479494273663 | test loss : 0.00033081771107390523\n",
            "epoch: 320 | loss ; 0.0012645035749301314 | test loss : 0.013801801018416882\n",
            "epoch: 321 | loss ; 0.010256479494273663 | test loss : 0.00033081771107390523\n",
            "epoch: 324 | loss ; 0.0012645035749301314 | test loss : 0.013801801018416882\n",
            "epoch: 325 | loss ; 0.010256479494273663 | test loss : 0.00033081771107390523\n",
            "epoch: 336 | loss ; 0.0012645035749301314 | test loss : 0.013801801018416882\n",
            "epoch: 337 | loss ; 0.010256479494273663 | test loss : 0.00033081771107390523\n",
            "epoch: 340 | loss ; 0.0012645035749301314 | test loss : 0.013801801018416882\n",
            "epoch: 341 | loss ; 0.010256479494273663 | test loss : 0.00033081771107390523\n",
            "epoch: 352 | loss ; 0.0012645035749301314 | test loss : 0.013801801018416882\n",
            "epoch: 353 | loss ; 0.010256479494273663 | test loss : 0.00033081771107390523\n",
            "epoch: 356 | loss ; 0.0012645035749301314 | test loss : 0.013801801018416882\n",
            "epoch: 357 | loss ; 0.010256479494273663 | test loss : 0.00033081771107390523\n",
            "epoch: 368 | loss ; 0.0012645035749301314 | test loss : 0.013801801018416882\n",
            "epoch: 369 | loss ; 0.010256479494273663 | test loss : 0.00033081771107390523\n",
            "epoch: 372 | loss ; 0.0012645035749301314 | test loss : 0.013801801018416882\n",
            "epoch: 373 | loss ; 0.010256479494273663 | test loss : 0.00033081771107390523\n",
            "epoch: 384 | loss ; 0.0012645035749301314 | test loss : 0.013801801018416882\n",
            "epoch: 385 | loss ; 0.010256479494273663 | test loss : 0.00033081771107390523\n",
            "epoch: 388 | loss ; 0.0012645035749301314 | test loss : 0.013801801018416882\n",
            "epoch: 389 | loss ; 0.010256479494273663 | test loss : 0.00033081771107390523\n",
            "epoch: 400 | loss ; 0.0012645035749301314 | test loss : 0.013801801018416882\n",
            "epoch: 401 | loss ; 0.010256479494273663 | test loss : 0.00033081771107390523\n",
            "epoch: 404 | loss ; 0.0012645035749301314 | test loss : 0.013801801018416882\n",
            "epoch: 405 | loss ; 0.010256479494273663 | test loss : 0.00033081771107390523\n",
            "epoch: 416 | loss ; 0.0012645035749301314 | test loss : 0.013801801018416882\n",
            "epoch: 417 | loss ; 0.010256479494273663 | test loss : 0.00033081771107390523\n",
            "epoch: 420 | loss ; 0.0012645035749301314 | test loss : 0.013801801018416882\n",
            "epoch: 421 | loss ; 0.010256479494273663 | test loss : 0.00033081771107390523\n",
            "epoch: 432 | loss ; 0.0012645035749301314 | test loss : 0.013801801018416882\n",
            "epoch: 433 | loss ; 0.010256479494273663 | test loss : 0.00033081771107390523\n",
            "epoch: 436 | loss ; 0.0012645035749301314 | test loss : 0.013801801018416882\n",
            "epoch: 437 | loss ; 0.010256479494273663 | test loss : 0.00033081771107390523\n",
            "epoch: 448 | loss ; 0.0012645035749301314 | test loss : 0.013801801018416882\n",
            "epoch: 449 | loss ; 0.010256479494273663 | test loss : 0.00033081771107390523\n",
            "epoch: 452 | loss ; 0.0012645035749301314 | test loss : 0.013801801018416882\n",
            "epoch: 453 | loss ; 0.010256479494273663 | test loss : 0.00033081771107390523\n",
            "epoch: 464 | loss ; 0.0012645035749301314 | test loss : 0.013801801018416882\n",
            "epoch: 465 | loss ; 0.010256479494273663 | test loss : 0.00033081771107390523\n",
            "epoch: 468 | loss ; 0.0012645035749301314 | test loss : 0.013801801018416882\n",
            "epoch: 469 | loss ; 0.010256479494273663 | test loss : 0.00033081771107390523\n",
            "epoch: 480 | loss ; 0.0012645035749301314 | test loss : 0.013801801018416882\n",
            "epoch: 481 | loss ; 0.010256479494273663 | test loss : 0.00033081771107390523\n",
            "epoch: 484 | loss ; 0.0012645035749301314 | test loss : 0.013801801018416882\n",
            "epoch: 485 | loss ; 0.010256479494273663 | test loss : 0.00033081771107390523\n",
            "epoch: 496 | loss ; 0.0012645035749301314 | test loss : 0.013801801018416882\n",
            "epoch: 497 | loss ; 0.010256479494273663 | test loss : 0.00033081771107390523\n"
          ]
        }
      ]
    },
    {
      "cell_type": "code",
      "source": [
        "model_1.state_dict()"
      ],
      "metadata": {
        "id": "zHNJiWlo2YGs",
        "colab": {
          "base_uri": "https://localhost:8080/"
        },
        "outputId": "db9ceb73-7f95-4e4a-e2bb-7b21cfe2758d"
      },
      "execution_count": 49,
      "outputs": [
        {
          "output_type": "execute_result",
          "data": {
            "text/plain": [
              "OrderedDict([('linear_layer.weight', tensor([[0.6968]], device='cuda:0')),\n",
              "             ('linear_layer.bias', tensor([0.3025], device='cuda:0'))])"
            ]
          },
          "metadata": {},
          "execution_count": 49
        }
      ]
    },
    {
      "cell_type": "code",
      "source": [
        "weight, bias"
      ],
      "metadata": {
        "id": "AppT-8d52YD2",
        "colab": {
          "base_uri": "https://localhost:8080/"
        },
        "outputId": "5dc9211c-fa01-4e02-f3f0-6099ce0edecd"
      },
      "execution_count": 50,
      "outputs": [
        {
          "output_type": "execute_result",
          "data": {
            "text/plain": [
              "(0.7, 0.3)"
            ]
          },
          "metadata": {},
          "execution_count": 50
        }
      ]
    },
    {
      "cell_type": "markdown",
      "source": [
        "its very close to the original weight and bias"
      ],
      "metadata": {
        "id": "xT2OGAc3gsAQ"
      }
    },
    {
      "cell_type": "markdown",
      "source": [
        "### 6.4 Making and Evaluating the Predictions"
      ],
      "metadata": {
        "id": "6bIWiCmt2YAu"
      }
    },
    {
      "cell_type": "code",
      "source": [
        "# turn the model into evaluation mode\n",
        "model_1.eval()\n",
        "\n",
        "# make predictions on the test data\n",
        "with torch.inference_mode():\n",
        "  y_preds = model_1(x_test)\n",
        "y_preds"
      ],
      "metadata": {
        "id": "1SCN5VOs2X98",
        "colab": {
          "base_uri": "https://localhost:8080/"
        },
        "outputId": "d068f592-9214-4270-f20c-795f04b090e1"
      },
      "execution_count": 51,
      "outputs": [
        {
          "output_type": "execute_result",
          "data": {
            "text/plain": [
              "tensor([[0.8600],\n",
              "        [0.8739],\n",
              "        [0.8878],\n",
              "        [0.9018],\n",
              "        [0.9157],\n",
              "        [0.9296],\n",
              "        [0.9436],\n",
              "        [0.9575],\n",
              "        [0.9714],\n",
              "        [0.9854]], device='cuda:0')"
            ]
          },
          "metadata": {},
          "execution_count": 51
        }
      ]
    },
    {
      "cell_type": "code",
      "source": [
        "# check out out model predictions visually\n",
        "plot_predictions(predictions= y_preds.cpu())"
      ],
      "metadata": {
        "colab": {
          "base_uri": "https://localhost:8080/",
          "height": 599
        },
        "id": "XH5jZi9MY-DO",
        "outputId": "40dee4d7-f9e2-4944-9ad1-88e5eecae0d8"
      },
      "execution_count": 52,
      "outputs": [
        {
          "output_type": "display_data",
          "data": {
            "text/plain": [
              "<Figure size 1000x700 with 1 Axes>"
            ],
            "image/png": "[encoded data removed]"
          },
          "metadata": {}
        }
      ]
    },
    {
      "cell_type": "markdown",
      "source": [
        "### 6.5 saving and loading a trained model"
      ],
      "metadata": {
        "id": "obPy8jWXZluT"
      }
    },
    {
      "cell_type": "code",
      "source": [
        "# saving model\n",
        "from pathlib import Path\n",
        "\n",
        "# 1. Create models Directory\n",
        "MODEL_PATH=Path(\"models\")\n",
        "MODEL_PATH.mkdir(parents=True, exist_ok=True)\n",
        "\n",
        "#2. Create model save path\n",
        "MODEL_NAME=\"01_Pytorch_workfrow_model_1.pt\"\n",
        "MODEL_SAVE_PATH=MODEL_PATH / MODEL_NAME\n",
        "\n",
        "# 3. Save the model state dict\n",
        "print(f\"saving model to: {MODEL_PATH}\")\n",
        "torch.save(obj=model_1.state_dict(),\n",
        "           f = MODEL_SAVE_PATH)"
      ],
      "metadata": {
        "colab": {
          "base_uri": "https://localhost:8080/"
        },
        "id": "SZejSjmWaGDc",
        "outputId": "9ddf39f2-b0bb-474f-8a19-30f90d0ab4ff"
      },
      "execution_count": 53,
      "outputs": [
        {
          "output_type": "stream",
          "name": "stdout",
          "text": [
            "saving model to: models\n"
          ]
        }
      ]
    },
    {
      "cell_type": "code",
      "source": [
        "# load a pytorch model\n",
        "\n",
        "# create a new instance of linear regression model v2\n",
        "loaded_model_1 = LinearRegressionModelV2()\n",
        "\n",
        "# load the saved model\n",
        "loaded_model_1.load_state_dict(torch.load(MODEL_SAVE_PATH))\n",
        "\n",
        " # put the loaded model to device\n",
        "loaded_model_1.to(device)\n"
      ],
      "metadata": {
        "colab": {
          "base_uri": "https://localhost:8080/"
        },
        "id": "cxpV_HiMajOk",
        "outputId": "be5948b8-5503-4129-8f87-c30675017854"
      },
      "execution_count": 55,
      "outputs": [
        {
          "output_type": "execute_result",
          "data": {
            "text/plain": [
              "LinearRegressionModelV2(\n",
              "  (linear_layer): Linear(in_features=1, out_features=1, bias=True)\n",
              ")"
            ]
          },
          "metadata": {},
          "execution_count": 55
        }
      ]
    },
    {
      "cell_type": "code",
      "source": [
        "next(loaded_model_1.parameters()).device"
      ],
      "metadata": {
        "colab": {
          "base_uri": "https://localhost:8080/"
        },
        "id": "G_4t0XAacj9L",
        "outputId": "d26e12c1-3420-49c0-fbdc-271ce8da48c6"
      },
      "execution_count": 58,
      "outputs": [
        {
          "output_type": "execute_result",
          "data": {
            "text/plain": [
              "device(type='cuda', index=0)"
            ]
          },
          "metadata": {},
          "execution_count": 58
        }
      ]
    },
    {
      "cell_type": "code",
      "source": [
        "loaded_model_1.state_dict()"
      ],
      "metadata": {
        "colab": {
          "base_uri": "https://localhost:8080/"
        },
        "id": "Xjdrhw34ctRq",
        "outputId": "1a9b5c25-b5fb-4908-fa55-e835bd3b01aa"
      },
      "execution_count": 59,
      "outputs": [
        {
          "output_type": "execute_result",
          "data": {
            "text/plain": [
              "OrderedDict([('linear_layer.weight', tensor([[0.6968]], device='cuda:0')),\n",
              "             ('linear_layer.bias', tensor([0.3025], device='cuda:0'))])"
            ]
          },
          "metadata": {},
          "execution_count": 59
        }
      ]
    },
    {
      "cell_type": "code",
      "source": [
        "# Evaluate loaded model\n",
        "# put the model on evaluation mode\n",
        "loaded_model_1.eval()\n",
        "\n",
        "# inferencing from the model\n",
        "with torch.inference_mode():\n",
        "  loaded_model_1_preds = loaded_model_1(x_test)\n",
        "\n",
        "# comparing the final predictions from model to the original output\n",
        "y_preds == loaded_model_1_preds"
      ],
      "metadata": {
        "colab": {
          "base_uri": "https://localhost:8080/"
        },
        "id": "-bDMifLVc5hT",
        "outputId": "c1bdeebf-357e-410f-8209-86187c04b9a0"
      },
      "execution_count": 60,
      "outputs": [
        {
          "output_type": "execute_result",
          "data": {
            "text/plain": [
              "tensor([[True],\n",
              "        [True],\n",
              "        [True],\n",
              "        [True],\n",
              "        [True],\n",
              "        [True],\n",
              "        [True],\n",
              "        [True],\n",
              "        [True],\n",
              "        [True]], device='cuda:0')"
            ]
          },
          "metadata": {},
          "execution_count": 60
        }
      ]
    },
    {
      "cell_type": "markdown",
      "source": [
        "## Exercises and extra-curriculum\n",
        "\n",
        "https://github.com/mrdbourke/pytorch-deep-learning/tree/main/extras"
      ],
      "metadata": {
        "id": "mnsaxvAydnIz"
      }
    },
    {
      "cell_type": "code",
      "source": [],
      "metadata": {
        "id": "bYRjv0oge1eE"
      },
      "execution_count": null,
      "outputs": []
    }
  ],
  "metadata": {
    "colab": {
      "provenance": [],
      "gpuType": "T4",
      "authorship_tag": "ABX9TyPoQeOaO3LubtlvTxh6ILqx",
      "include_colab_link": true
    },
    "kernelspec": {
      "display_name": "Python 3",
      "name": "python3"
    },
    "language_info": {
      "name": "python"
    },
    "accelerator": "GPU"
  },
  "nbformat": 4,
  "nbformat_minor": 0
}