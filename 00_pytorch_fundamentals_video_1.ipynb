{
  "nbformat": 4,
  "nbformat_minor": 0,
  "metadata": {
    "colab": {
      "provenance": [],
      "gpuType": "T4",
      "authorship_tag": "ABX9TyNzD8Lhyv529IjIc30rtMoR",
      "include_colab_link": true
    },
    "kernelspec": {
      "name": "python3",
      "display_name": "Python 3"
    },
    "language_info": {
      "name": "python"
    }
  },
  "cells": [
    {
      "cell_type": "markdown",
      "metadata": {
        "id": "view-in-github",
        "colab_type": "text"
      },
      "source": [
        "<a href=\"https://colab.research.google.com/github/rajsecrets01/PyTorch/blob/main/00_pytorch_fundamentals_video.ipynb\" target=\"_parent\"><img src=\"https://colab.research.google.com/assets/colab-badge.svg\" alt=\"Open In Colab\"/></a>"
      ]
    },
    {
      "cell_type": "code",
      "source": [
        "!nvidia-smi"
      ],
      "metadata": {
        "id": "rq3lToa45WZp",
        "colab": {
          "base_uri": "https://localhost:8080/"
        },
        "outputId": "86b31dfc-acf1-4a7a-aa50-04a9ed52efd2"
      },
      "execution_count": null,
      "outputs": [
        {
          "output_type": "stream",
          "name": "stdout",
          "text": [
            "/bin/bash: line 1: nvidia-smi: command not found\n"
          ]
        }
      ]
    },
    {
      "cell_type": "code",
      "source": [
        "import torch\n",
        "import pandas as pd\n",
        "import numpy as np\n",
        "import matplotlib.pyplot as plt\n",
        "print(torch.__version__)"
      ],
      "metadata": {
        "colab": {
          "base_uri": "https://localhost:8080/"
        },
        "id": "Kqdir2mfiXd3",
        "outputId": "6c20ecd9-8727-4eec-e06f-264acf936da8"
      },
      "execution_count": null,
      "outputs": [
        {
          "output_type": "stream",
          "name": "stdout",
          "text": [
            "2.0.1+cu118\n"
          ]
        }
      ]
    },
    {
      "cell_type": "markdown",
      "source": [
        "## Intro to tensors\n",
        "### Creating tensors"
      ],
      "metadata": {
        "id": "p0wBichDj1wT"
      }
    },
    {
      "cell_type": "code",
      "source": [
        "# scalar\n",
        "scalar = torch.tensor(150000)\n",
        "scalar"
      ],
      "metadata": {
        "colab": {
          "base_uri": "https://localhost:8080/"
        },
        "id": "pSmJiXNnm1Sy",
        "outputId": "9d25b675-fcc4-4fe9-9fc2-da410d699059"
      },
      "execution_count": null,
      "outputs": [
        {
          "output_type": "execute_result",
          "data": {
            "text/plain": [
              "tensor(150000)"
            ]
          },
          "metadata": {},
          "execution_count": 3
        }
      ]
    },
    {
      "cell_type": "code",
      "source": [
        "scalar.ndim"
      ],
      "metadata": {
        "colab": {
          "base_uri": "https://localhost:8080/"
        },
        "id": "9dZOrdH7m1QJ",
        "outputId": "cd91179b-8f0e-4bc6-c8da-eda71865d7c6"
      },
      "execution_count": null,
      "outputs": [
        {
          "output_type": "execute_result",
          "data": {
            "text/plain": [
              "0"
            ]
          },
          "metadata": {},
          "execution_count": 4
        }
      ]
    },
    {
      "cell_type": "code",
      "source": [
        "scalar.item()"
      ],
      "metadata": {
        "colab": {
          "base_uri": "https://localhost:8080/"
        },
        "id": "lgywoJecoc7z",
        "outputId": "0cf68d2b-d132-4bea-a3e0-c8eede157ba6"
      },
      "execution_count": null,
      "outputs": [
        {
          "output_type": "execute_result",
          "data": {
            "text/plain": [
              "150000"
            ]
          },
          "metadata": {},
          "execution_count": 5
        }
      ]
    },
    {
      "cell_type": "code",
      "source": [
        "#get tensor back as python int\n",
        "p = scalar.item()\n",
        "type(p)"
      ],
      "metadata": {
        "colab": {
          "base_uri": "https://localhost:8080/"
        },
        "id": "wW6W9Q6Cm1NL",
        "outputId": "c73877be-c1bc-4bef-c489-895e610546a3"
      },
      "execution_count": null,
      "outputs": [
        {
          "output_type": "execute_result",
          "data": {
            "text/plain": [
              "int"
            ]
          },
          "metadata": {},
          "execution_count": 6
        }
      ]
    },
    {
      "cell_type": "code",
      "source": [
        "# vector\n",
        "vector = torch.tensor([1,488,455])\n",
        "vector"
      ],
      "metadata": {
        "colab": {
          "base_uri": "https://localhost:8080/"
        },
        "id": "UkCMsJ0qm1Cr",
        "outputId": "2373035e-4ae3-439d-cb18-3019c592a80c"
      },
      "execution_count": null,
      "outputs": [
        {
          "output_type": "execute_result",
          "data": {
            "text/plain": [
              "tensor([  1, 488, 455])"
            ]
          },
          "metadata": {},
          "execution_count": 7
        }
      ]
    },
    {
      "cell_type": "code",
      "source": [
        "vector.ndim\n",
        "# no of square brackets on the ([1,488,455])"
      ],
      "metadata": {
        "colab": {
          "base_uri": "https://localhost:8080/"
        },
        "id": "3VYuhwy4omhm",
        "outputId": "72ba8f87-1617-4f0a-ad67-5f4ada8734e7"
      },
      "execution_count": null,
      "outputs": [
        {
          "output_type": "execute_result",
          "data": {
            "text/plain": [
              "1"
            ]
          },
          "metadata": {},
          "execution_count": 8
        }
      ]
    },
    {
      "cell_type": "code",
      "source": [
        "vector.shape"
      ],
      "metadata": {
        "colab": {
          "base_uri": "https://localhost:8080/"
        },
        "id": "dUe3w0-Vo9S5",
        "outputId": "0db8aa21-d143-4392-f43d-b007456d60e9"
      },
      "execution_count": null,
      "outputs": [
        {
          "output_type": "execute_result",
          "data": {
            "text/plain": [
              "torch.Size([3])"
            ]
          },
          "metadata": {},
          "execution_count": 9
        }
      ]
    },
    {
      "cell_type": "code",
      "source": [
        "#MATRIX\n",
        "MATRIX = torch.tensor([[7,8],\n",
        "                       [18,155]])\n",
        "MATRIX"
      ],
      "metadata": {
        "colab": {
          "base_uri": "https://localhost:8080/"
        },
        "id": "tlW4t8pOpM-l",
        "outputId": "a6436651-aa7a-49f6-c726-6e36f6f18c7d"
      },
      "execution_count": null,
      "outputs": [
        {
          "output_type": "execute_result",
          "data": {
            "text/plain": [
              "tensor([[  7,   8],\n",
              "        [ 18, 155]])"
            ]
          },
          "metadata": {},
          "execution_count": 10
        }
      ]
    },
    {
      "cell_type": "code",
      "source": [
        "MATRIX.ndim\n",
        "# no of square brackets"
      ],
      "metadata": {
        "colab": {
          "base_uri": "https://localhost:8080/"
        },
        "id": "gc5C3xXmpjah",
        "outputId": "70a88636-f3ff-409e-b2ca-9d38600a6a0a"
      },
      "execution_count": null,
      "outputs": [
        {
          "output_type": "execute_result",
          "data": {
            "text/plain": [
              "2"
            ]
          },
          "metadata": {},
          "execution_count": 11
        }
      ]
    },
    {
      "cell_type": "code",
      "source": [
        "MATRIX.shape"
      ],
      "metadata": {
        "colab": {
          "base_uri": "https://localhost:8080/"
        },
        "id": "TbmnphqSpnb-",
        "outputId": "c88d9931-2932-4004-adf8-7b667aaa6e05"
      },
      "execution_count": null,
      "outputs": [
        {
          "output_type": "execute_result",
          "data": {
            "text/plain": [
              "torch.Size([2, 2])"
            ]
          },
          "metadata": {},
          "execution_count": 12
        }
      ]
    },
    {
      "cell_type": "code",
      "source": [
        "#indexing\n",
        "MATRIX[0]"
      ],
      "metadata": {
        "colab": {
          "base_uri": "https://localhost:8080/"
        },
        "id": "4RfpYoJMpyFH",
        "outputId": "9ddbd95b-a3de-42c8-8977-ec46f087ae6c"
      },
      "execution_count": null,
      "outputs": [
        {
          "output_type": "execute_result",
          "data": {
            "text/plain": [
              "tensor([7, 8])"
            ]
          },
          "metadata": {},
          "execution_count": 13
        }
      ]
    },
    {
      "cell_type": "code",
      "source": [
        "# TENSOR\n",
        "TENSOR = torch.tensor([[[1,2,3],\n",
        "                        [4,8,9],\n",
        "                        [7,9,6]]])\n",
        "TENSOR"
      ],
      "metadata": {
        "colab": {
          "base_uri": "https://localhost:8080/"
        },
        "id": "60ee_S6wp8cj",
        "outputId": "3b63bbb9-c8ef-497b-f53f-2283592255d9"
      },
      "execution_count": null,
      "outputs": [
        {
          "output_type": "execute_result",
          "data": {
            "text/plain": [
              "tensor([[[1, 2, 3],\n",
              "         [4, 8, 9],\n",
              "         [7, 9, 6]]])"
            ]
          },
          "metadata": {},
          "execution_count": 14
        }
      ]
    },
    {
      "cell_type": "code",
      "source": [
        "TENSOR.ndim"
      ],
      "metadata": {
        "colab": {
          "base_uri": "https://localhost:8080/"
        },
        "id": "yLW3qUpitndr",
        "outputId": "0d5860d0-d242-4eeb-c907-65ebe14d2fb0"
      },
      "execution_count": null,
      "outputs": [
        {
          "output_type": "execute_result",
          "data": {
            "text/plain": [
              "3"
            ]
          },
          "metadata": {},
          "execution_count": 15
        }
      ]
    },
    {
      "cell_type": "code",
      "source": [
        "TENSOR.shape"
      ],
      "metadata": {
        "colab": {
          "base_uri": "https://localhost:8080/"
        },
        "id": "KLfDApX7t0nu",
        "outputId": "8faee016-a1f6-45a5-bf83-72e2437f7d75"
      },
      "execution_count": null,
      "outputs": [
        {
          "output_type": "execute_result",
          "data": {
            "text/plain": [
              "torch.Size([1, 3, 3])"
            ]
          },
          "metadata": {},
          "execution_count": 16
        }
      ]
    },
    {
      "cell_type": "code",
      "source": [
        "tp = torch.tensor([[[[4,5,6,4],\n",
        "                     [7,8,9,41],\n",
        "                     [7,8,9,4]]]])"
      ],
      "metadata": {
        "id": "wd5YecBOt20p"
      },
      "execution_count": null,
      "outputs": []
    },
    {
      "cell_type": "code",
      "source": [
        "tp"
      ],
      "metadata": {
        "colab": {
          "base_uri": "https://localhost:8080/"
        },
        "id": "MfJCNgqcufVk",
        "outputId": "9c3cb2ce-77dd-4176-c48e-261f750ff7a8"
      },
      "execution_count": null,
      "outputs": [
        {
          "output_type": "execute_result",
          "data": {
            "text/plain": [
              "tensor([[[[ 4,  5,  6,  4],\n",
              "          [ 7,  8,  9, 41],\n",
              "          [ 7,  8,  9,  4]]]])"
            ]
          },
          "metadata": {},
          "execution_count": 18
        }
      ]
    },
    {
      "cell_type": "code",
      "source": [
        "tp.ndim"
      ],
      "metadata": {
        "colab": {
          "base_uri": "https://localhost:8080/"
        },
        "id": "UhSgFdZcugM-",
        "outputId": "f1cef604-cf0f-460a-dad6-10c3e234f8a9"
      },
      "execution_count": null,
      "outputs": [
        {
          "output_type": "execute_result",
          "data": {
            "text/plain": [
              "4"
            ]
          },
          "metadata": {},
          "execution_count": 19
        }
      ]
    },
    {
      "cell_type": "code",
      "source": [
        "tp.shape"
      ],
      "metadata": {
        "id": "AhwSdhD9ujXt",
        "outputId": "0873620c-315a-4c84-b278-a4e70dbb62ce",
        "colab": {
          "base_uri": "https://localhost:8080/"
        }
      },
      "execution_count": null,
      "outputs": [
        {
          "output_type": "execute_result",
          "data": {
            "text/plain": [
              "torch.Size([1, 1, 3, 4])"
            ]
          },
          "metadata": {},
          "execution_count": 20
        }
      ]
    },
    {
      "cell_type": "markdown",
      "source": [
        "### Random Tensors\n",
        " Why random tensors ?\n",
        " ##### -> neural networks choose random numbers first and then iterate it again and again, to get the most accurate orientation."
      ],
      "metadata": {
        "id": "1IiqheosuksL"
      }
    },
    {
      "cell_type": "code",
      "source": [
        "ten1 = torch.rand(3,3)\n",
        "ten1\n",
        "\n",
        "# row and columns"
      ],
      "metadata": {
        "id": "jb4uk2TKlgS-",
        "colab": {
          "base_uri": "https://localhost:8080/"
        },
        "outputId": "b23eba78-00a3-4e87-98b0-144d759bc799"
      },
      "execution_count": null,
      "outputs": [
        {
          "output_type": "execute_result",
          "data": {
            "text/plain": [
              "tensor([[0.5217, 0.4346, 0.0665],\n",
              "        [0.2753, 0.5097, 0.3808],\n",
              "        [0.4715, 0.8186, 0.0438]])"
            ]
          },
          "metadata": {},
          "execution_count": 21
        }
      ]
    },
    {
      "cell_type": "code",
      "source": [
        "ten2 = torch.rand(3,4)\n",
        "ten2"
      ],
      "metadata": {
        "id": "QIMHFQhoL5lf",
        "colab": {
          "base_uri": "https://localhost:8080/"
        },
        "outputId": "64f1e231-384a-49a1-84a7-7bee75e00b32"
      },
      "execution_count": null,
      "outputs": [
        {
          "output_type": "execute_result",
          "data": {
            "text/plain": [
              "tensor([[0.6517, 0.6051, 0.3114, 0.8808],\n",
              "        [0.0850, 0.5968, 0.3938, 0.6083],\n",
              "        [0.9391, 0.6794, 0.1844, 0.2286]])"
            ]
          },
          "metadata": {},
          "execution_count": 22
        }
      ]
    },
    {
      "cell_type": "code",
      "source": [
        "ten2.ndim"
      ],
      "metadata": {
        "colab": {
          "base_uri": "https://localhost:8080/"
        },
        "id": "WgpPmnG1B5g7",
        "outputId": "67430c9d-71b5-41e1-b90c-d86526b6c7e6"
      },
      "execution_count": null,
      "outputs": [
        {
          "output_type": "execute_result",
          "data": {
            "text/plain": [
              "2"
            ]
          },
          "metadata": {},
          "execution_count": 23
        }
      ]
    },
    {
      "cell_type": "code",
      "source": [
        "colour_tensor = torch.rand(size = (240,240,3)) #size and colour channels - R G B colour\n",
        "colour_tensor"
      ],
      "metadata": {
        "colab": {
          "base_uri": "https://localhost:8080/"
        },
        "id": "ITeVIWwn_o-M",
        "outputId": "062bb528-6d66-4d14-8c18-c1280fdf6bcc"
      },
      "execution_count": null,
      "outputs": [
        {
          "output_type": "execute_result",
          "data": {
            "text/plain": [
              "tensor([[[0.9762, 0.9575, 0.1148],\n",
              "         [0.1028, 0.6066, 0.4498],\n",
              "         [0.1087, 0.5562, 0.7414],\n",
              "         ...,\n",
              "         [0.2385, 0.6214, 0.6091],\n",
              "         [0.5191, 0.0587, 0.8800],\n",
              "         [0.0948, 0.1245, 0.4662]],\n",
              "\n",
              "        [[0.2772, 0.1322, 0.9752],\n",
              "         [0.1151, 0.7860, 0.1089],\n",
              "         [0.4500, 0.9451, 0.0808],\n",
              "         ...,\n",
              "         [0.4366, 0.2127, 0.4883],\n",
              "         [0.7890, 0.8813, 0.5293],\n",
              "         [0.1414, 0.9382, 0.8664]],\n",
              "\n",
              "        [[0.4174, 0.0558, 0.6420],\n",
              "         [0.2105, 0.0282, 0.3229],\n",
              "         [0.3475, 0.7116, 0.5538],\n",
              "         ...,\n",
              "         [0.8976, 0.9480, 0.8025],\n",
              "         [0.4968, 0.9584, 0.8338],\n",
              "         [0.3030, 0.1038, 0.1517]],\n",
              "\n",
              "        ...,\n",
              "\n",
              "        [[0.0693, 0.9029, 0.5899],\n",
              "         [0.7987, 0.6444, 0.6643],\n",
              "         [0.0297, 0.9961, 0.2959],\n",
              "         ...,\n",
              "         [0.4001, 0.5111, 0.3833],\n",
              "         [0.9475, 0.5172, 0.2338],\n",
              "         [0.2814, 0.2467, 0.0074]],\n",
              "\n",
              "        [[0.6573, 0.9526, 0.8906],\n",
              "         [0.4262, 0.5869, 0.0570],\n",
              "         [0.4995, 0.8403, 0.6670],\n",
              "         ...,\n",
              "         [0.7089, 0.5039, 0.3613],\n",
              "         [0.9775, 0.2494, 0.4078],\n",
              "         [0.9643, 0.4207, 0.1441]],\n",
              "\n",
              "        [[0.9874, 0.5099, 0.6901],\n",
              "         [0.2110, 0.4178, 0.9745],\n",
              "         [0.1663, 0.6058, 0.1709],\n",
              "         ...,\n",
              "         [0.9741, 0.0134, 0.5347],\n",
              "         [0.8456, 0.0054, 0.2969],\n",
              "         [0.6245, 0.8894, 0.1530]]])"
            ]
          },
          "metadata": {},
          "execution_count": 24
        }
      ]
    },
    {
      "cell_type": "code",
      "source": [
        "colour_tensor.shape"
      ],
      "metadata": {
        "colab": {
          "base_uri": "https://localhost:8080/"
        },
        "id": "SGKD_KEJBeJe",
        "outputId": "c6a4d11a-1a10-464f-89c9-72c0b74cd0f1"
      },
      "execution_count": null,
      "outputs": [
        {
          "output_type": "execute_result",
          "data": {
            "text/plain": [
              "torch.Size([240, 240, 3])"
            ]
          },
          "metadata": {},
          "execution_count": 25
        }
      ]
    },
    {
      "cell_type": "code",
      "source": [
        "colour_tensor.ndim"
      ],
      "metadata": {
        "colab": {
          "base_uri": "https://localhost:8080/"
        },
        "id": "TuhGAOSNEOmx",
        "outputId": "f2dba20f-9d52-4d71-b653-118e1950a157"
      },
      "execution_count": null,
      "outputs": [
        {
          "output_type": "execute_result",
          "data": {
            "text/plain": [
              "3"
            ]
          },
          "metadata": {},
          "execution_count": 26
        }
      ]
    },
    {
      "cell_type": "code",
      "source": [
        "ten3 = torch.rand(7000,100)\n",
        "ten3"
      ],
      "metadata": {
        "colab": {
          "base_uri": "https://localhost:8080/"
        },
        "id": "dnk0ERt_ESCF",
        "outputId": "e73f2456-5b32-4e3f-cac9-de9d82b823d2"
      },
      "execution_count": null,
      "outputs": [
        {
          "output_type": "execute_result",
          "data": {
            "text/plain": [
              "tensor([[0.9331, 0.5944, 0.4018,  ..., 0.6237, 0.5677, 0.8618],\n",
              "        [0.5897, 0.6867, 0.0656,  ..., 0.8387, 0.8942, 0.2673],\n",
              "        [0.9051, 0.9709, 0.8713,  ..., 0.8780, 0.4269, 0.5882],\n",
              "        ...,\n",
              "        [0.2212, 0.2325, 0.3739,  ..., 0.1787, 0.8628, 0.5565],\n",
              "        [0.9148, 0.4957, 0.0740,  ..., 0.9178, 0.5373, 0.8516],\n",
              "        [0.2238, 0.8917, 0.8933,  ..., 0.3112, 0.5465, 0.7574]])"
            ]
          },
          "metadata": {},
          "execution_count": 27
        }
      ]
    },
    {
      "cell_type": "markdown",
      "source": [
        "### Zeroes and Ones and like tensors"
      ],
      "metadata": {
        "id": "uqeu6spiFIn0"
      }
    },
    {
      "cell_type": "code",
      "source": [
        "# Create a tensor of all zeroes\n",
        "zero = torch.zeros(3,4)\n",
        "zero"
      ],
      "metadata": {
        "colab": {
          "base_uri": "https://localhost:8080/"
        },
        "id": "4P6Jeuu-FNSw",
        "outputId": "235e0b69-702e-46b6-ccec-354abf1dc414"
      },
      "execution_count": null,
      "outputs": [
        {
          "output_type": "execute_result",
          "data": {
            "text/plain": [
              "tensor([[0., 0., 0., 0.],\n",
              "        [0., 0., 0., 0.],\n",
              "        [0., 0., 0., 0.]])"
            ]
          },
          "metadata": {},
          "execution_count": 28
        }
      ]
    },
    {
      "cell_type": "code",
      "source": [
        "# create a tensor of all ones\n",
        "ones = torch.ones(3,4)\n",
        "ones"
      ],
      "metadata": {
        "colab": {
          "base_uri": "https://localhost:8080/"
        },
        "id": "Hq67vSxuFS8B",
        "outputId": "384344c1-aaec-4f30-9f80-7ef54740a6c4"
      },
      "execution_count": null,
      "outputs": [
        {
          "output_type": "execute_result",
          "data": {
            "text/plain": [
              "tensor([[1., 1., 1., 1.],\n",
              "        [1., 1., 1., 1.],\n",
              "        [1., 1., 1., 1.]])"
            ]
          },
          "metadata": {},
          "execution_count": 29
        }
      ]
    },
    {
      "cell_type": "code",
      "source": [
        "ten2.dtype\n",
        "# default dtatype for tensor random"
      ],
      "metadata": {
        "colab": {
          "base_uri": "https://localhost:8080/"
        },
        "id": "JAfxXhH3FYIF",
        "outputId": "0e813e00-d5e7-4ab1-e63f-9aed19345cee"
      },
      "execution_count": null,
      "outputs": [
        {
          "output_type": "execute_result",
          "data": {
            "text/plain": [
              "torch.float32"
            ]
          },
          "metadata": {},
          "execution_count": 30
        }
      ]
    },
    {
      "cell_type": "markdown",
      "source": [
        "### Creating tensors in a range"
      ],
      "metadata": {
        "id": "vuWe2zcrQSzM"
      }
    },
    {
      "cell_type": "code",
      "source": [
        "# use torch.range()  : don't use it because it is deprecated already\n",
        "torch.range(1,88)"
      ],
      "metadata": {
        "colab": {
          "base_uri": "https://localhost:8080/"
        },
        "id": "TX_4Zzj0RE2E",
        "outputId": "f43dac62-6c53-4518-f697-1b98c565d1b7"
      },
      "execution_count": null,
      "outputs": [
        {
          "output_type": "stream",
          "name": "stderr",
          "text": [
            "<ipython-input-31-e92c82bb72d7>:2: UserWarning: torch.range is deprecated and will be removed in a future release because its behavior is inconsistent with Python's range builtin. Instead, use torch.arange, which produces values in [start, end).\n",
            "  torch.range(1,88)\n"
          ]
        },
        {
          "output_type": "execute_result",
          "data": {
            "text/plain": [
              "tensor([ 1.,  2.,  3.,  4.,  5.,  6.,  7.,  8.,  9., 10., 11., 12., 13., 14.,\n",
              "        15., 16., 17., 18., 19., 20., 21., 22., 23., 24., 25., 26., 27., 28.,\n",
              "        29., 30., 31., 32., 33., 34., 35., 36., 37., 38., 39., 40., 41., 42.,\n",
              "        43., 44., 45., 46., 47., 48., 49., 50., 51., 52., 53., 54., 55., 56.,\n",
              "        57., 58., 59., 60., 61., 62., 63., 64., 65., 66., 67., 68., 69., 70.,\n",
              "        71., 72., 73., 74., 75., 76., 77., 78., 79., 80., 81., 82., 83., 84.,\n",
              "        85., 86., 87., 88.])"
            ]
          },
          "metadata": {},
          "execution_count": 31
        }
      ]
    },
    {
      "cell_type": "code",
      "source": [
        "# use torch.arange()\n",
        "torch.arange(1,88)"
      ],
      "metadata": {
        "colab": {
          "base_uri": "https://localhost:8080/"
        },
        "id": "bn9jKkjzQSik",
        "outputId": "3dde6178-3339-4de7-d172-d802ff2fe664"
      },
      "execution_count": null,
      "outputs": [
        {
          "output_type": "execute_result",
          "data": {
            "text/plain": [
              "tensor([ 1,  2,  3,  4,  5,  6,  7,  8,  9, 10, 11, 12, 13, 14, 15, 16, 17, 18,\n",
              "        19, 20, 21, 22, 23, 24, 25, 26, 27, 28, 29, 30, 31, 32, 33, 34, 35, 36,\n",
              "        37, 38, 39, 40, 41, 42, 43, 44, 45, 46, 47, 48, 49, 50, 51, 52, 53, 54,\n",
              "        55, 56, 57, 58, 59, 60, 61, 62, 63, 64, 65, 66, 67, 68, 69, 70, 71, 72,\n",
              "        73, 74, 75, 76, 77, 78, 79, 80, 81, 82, 83, 84, 85, 86, 87])"
            ]
          },
          "metadata": {},
          "execution_count": 32
        }
      ]
    },
    {
      "cell_type": "markdown",
      "source": [
        "Results in range and arange are different so arange is more preferable to use."
      ],
      "metadata": {
        "id": "Diyqu0V-RX-1"
      }
    },
    {
      "cell_type": "code",
      "source": [
        "torch.__version__"
      ],
      "metadata": {
        "colab": {
          "base_uri": "https://localhost:8080/",
          "height": 35
        },
        "id": "IStXx1-pQkLk",
        "outputId": "188eb447-07b4-48e9-c17a-004d92fb9180"
      },
      "execution_count": null,
      "outputs": [
        {
          "output_type": "execute_result",
          "data": {
            "text/plain": [
              "'2.0.1+cu118'"
            ],
            "application/vnd.google.colaboratory.intrinsic+json": {
              "type": "string"
            }
          },
          "metadata": {},
          "execution_count": 33
        }
      ]
    },
    {
      "cell_type": "code",
      "source": [
        "# stepping is the equal steps you want to go\n",
        "stepping = torch.arange(start = 0, end = 1000, step = 150)\n",
        "stepping"
      ],
      "metadata": {
        "colab": {
          "base_uri": "https://localhost:8080/"
        },
        "id": "EWJyu2cfQm0L",
        "outputId": "7dbca15b-cf38-4bb6-a71d-258cb9faaca3"
      },
      "execution_count": null,
      "outputs": [
        {
          "output_type": "execute_result",
          "data": {
            "text/plain": [
              "tensor([  0, 150, 300, 450, 600, 750, 900])"
            ]
          },
          "metadata": {},
          "execution_count": 34
        }
      ]
    },
    {
      "cell_type": "code",
      "source": [
        "stepping.shape"
      ],
      "metadata": {
        "colab": {
          "base_uri": "https://localhost:8080/"
        },
        "id": "D-4cN0nPTLUm",
        "outputId": "c0314339-3f14-4e58-b269-877f3b15ff73"
      },
      "execution_count": null,
      "outputs": [
        {
          "output_type": "execute_result",
          "data": {
            "text/plain": [
              "torch.Size([7])"
            ]
          },
          "metadata": {},
          "execution_count": 35
        }
      ]
    },
    {
      "cell_type": "code",
      "source": [
        "# creating tensors like : create a tensor with same shape without knowing the 'shape' of the original one\n",
        "like_tensor = torch.zeros_like(input = stepping)\n",
        "like_tensor"
      ],
      "metadata": {
        "colab": {
          "base_uri": "https://localhost:8080/"
        },
        "id": "416s3sMSSBZx",
        "outputId": "d4deba79-c45c-4ff2-ef37-92e42c79b65e"
      },
      "execution_count": null,
      "outputs": [
        {
          "output_type": "execute_result",
          "data": {
            "text/plain": [
              "tensor([0, 0, 0, 0, 0, 0, 0])"
            ]
          },
          "metadata": {},
          "execution_count": 36
        }
      ]
    },
    {
      "cell_type": "code",
      "source": [
        "like_tensor.shape"
      ],
      "metadata": {
        "colab": {
          "base_uri": "https://localhost:8080/"
        },
        "id": "h6APXd4HTPUk",
        "outputId": "ddd9d04c-2a04-4408-b613-d1646e2b0c78"
      },
      "execution_count": null,
      "outputs": [
        {
          "output_type": "execute_result",
          "data": {
            "text/plain": [
              "torch.Size([7])"
            ]
          },
          "metadata": {},
          "execution_count": 37
        }
      ]
    },
    {
      "cell_type": "markdown",
      "source": [
        "### Tensor datatypes\n",
        "**Note** : 3 big errors we will face with pytorch and machine learning\n",
        "1. tensors not right datatype\n",
        "2. tensors not right shape\n",
        "3. tensors not on the right device"
      ],
      "metadata": {
        "id": "Mz5CtfeETmhr"
      }
    },
    {
      "cell_type": "code",
      "source": [
        "# float 32 tensor\n",
        "float_32_ten = torch.tensor([3.0,5.0, 6.7],\n",
        "                            dtype = None)"
      ],
      "metadata": {
        "id": "gqVJzL8ETI3i"
      },
      "execution_count": null,
      "outputs": []
    },
    {
      "cell_type": "code",
      "source": [
        "float_32_ten.dtype"
      ],
      "metadata": {
        "colab": {
          "base_uri": "https://localhost:8080/"
        },
        "id": "fntEEghyVsVo",
        "outputId": "432366d3-1fbb-4163-c87b-0ae9dcc19abf"
      },
      "execution_count": null,
      "outputs": [
        {
          "output_type": "execute_result",
          "data": {
            "text/plain": [
              "torch.float32"
            ]
          },
          "metadata": {},
          "execution_count": 39
        }
      ]
    },
    {
      "cell_type": "code",
      "source": [
        "float_32_ten04 = torch.tensor([3.0,5.0, 6.7],\n",
        "                            dtype = None,\n",
        "                            device = None,\n",
        "                            requires_grad = False)"
      ],
      "metadata": {
        "id": "vIi7PM6ybk0v"
      },
      "execution_count": null,
      "outputs": []
    },
    {
      "cell_type": "code",
      "source": [
        "float_32_ten02 = torch.tensor([3.0,5.0, 6.7])\n",
        "float_32_ten02"
      ],
      "metadata": {
        "colab": {
          "base_uri": "https://localhost:8080/"
        },
        "id": "iaSJRblMVuzZ",
        "outputId": "bcdac6bd-b7a3-4b8a-a5a8-5f42d305ab0e"
      },
      "execution_count": null,
      "outputs": [
        {
          "output_type": "execute_result",
          "data": {
            "text/plain": [
              "tensor([3.0000, 5.0000, 6.7000])"
            ]
          },
          "metadata": {},
          "execution_count": 41
        }
      ]
    },
    {
      "cell_type": "code",
      "source": [
        "float_32_ten02.dtype"
      ],
      "metadata": {
        "colab": {
          "base_uri": "https://localhost:8080/"
        },
        "id": "4trHZWqsV3Rp",
        "outputId": "61e2c0a0-5c8d-4f14-be38-0a23d5c86d82"
      },
      "execution_count": null,
      "outputs": [
        {
          "output_type": "execute_result",
          "data": {
            "text/plain": [
              "torch.float32"
            ]
          },
          "metadata": {},
          "execution_count": 42
        }
      ]
    },
    {
      "cell_type": "code",
      "source": [
        "# float 16 tensor\n",
        "# way : 01\n",
        "float_16_ten03 = torch.tensor([3.0,5.0, 6.7],\n",
        "                            dtype = torch.float16)\n",
        "float_16_ten03"
      ],
      "metadata": {
        "colab": {
          "base_uri": "https://localhost:8080/"
        },
        "id": "8-cG3mNZV47E",
        "outputId": "f0382f14-ab30-44ab-9419-b49533d24c26"
      },
      "execution_count": null,
      "outputs": [
        {
          "output_type": "execute_result",
          "data": {
            "text/plain": [
              "tensor([3.0000, 5.0000, 6.6992], dtype=torch.float16)"
            ]
          },
          "metadata": {},
          "execution_count": 43
        }
      ]
    },
    {
      "cell_type": "code",
      "source": [
        "#  way : 02\n",
        "float_16_tensor =float_32_ten02.type(torch.float16)\n",
        "float_16_tensor"
      ],
      "metadata": {
        "colab": {
          "base_uri": "https://localhost:8080/"
        },
        "id": "UJOZAhMAWNH7",
        "outputId": "d52e8742-68d8-4728-d50a-80f90b4c5cfe"
      },
      "execution_count": null,
      "outputs": [
        {
          "output_type": "execute_result",
          "data": {
            "text/plain": [
              "tensor([3.0000, 5.0000, 6.6992], dtype=torch.float16)"
            ]
          },
          "metadata": {},
          "execution_count": 44
        }
      ]
    },
    {
      "cell_type": "code",
      "source": [
        "# multply the tensors with different datatypes\n",
        "multiply_tensors = float_32_ten02 * float_16_tensor\n",
        "multiply_tensors"
      ],
      "metadata": {
        "colab": {
          "base_uri": "https://localhost:8080/"
        },
        "id": "ef6MHiVfZcZT",
        "outputId": "bc7e2928-5527-408a-838c-639f183111b3"
      },
      "execution_count": null,
      "outputs": [
        {
          "output_type": "execute_result",
          "data": {
            "text/plain": [
              "tensor([ 9.0000, 25.0000, 44.8848])"
            ]
          },
          "metadata": {},
          "execution_count": 45
        }
      ]
    },
    {
      "cell_type": "code",
      "source": [
        "multiply_tensors.dtype"
      ],
      "metadata": {
        "colab": {
          "base_uri": "https://localhost:8080/"
        },
        "id": "GHrapxYKZc6g",
        "outputId": "599e0599-5843-4cf3-df88-8548bd1d25aa"
      },
      "execution_count": null,
      "outputs": [
        {
          "output_type": "execute_result",
          "data": {
            "text/plain": [
              "torch.float32"
            ]
          },
          "metadata": {},
          "execution_count": 46
        }
      ]
    },
    {
      "cell_type": "markdown",
      "source": [
        "*** if we multiply the float16 with float32 we get float 32 ***"
      ],
      "metadata": {
        "id": "ISi0zJzUdKjs"
      }
    },
    {
      "cell_type": "code",
      "source": [
        "int_32_tensor = torch.tensor([3,6,9,15], dtype = torch.complex32)\n",
        "int_32_tensor.dtype"
      ],
      "metadata": {
        "colab": {
          "base_uri": "https://localhost:8080/"
        },
        "id": "TyyOH9qSdF53",
        "outputId": "6f750c2a-43d0-4bbc-b463-324b900febf3"
      },
      "execution_count": null,
      "outputs": [
        {
          "output_type": "stream",
          "name": "stderr",
          "text": [
            "<ipython-input-47-f3283fafa392>:1: UserWarning: ComplexHalf support is experimental and many operators don't support it yet. (Triggered internally at ../aten/src/ATen/EmptyTensor.cpp:31.)\n",
            "  int_32_tensor = torch.tensor([3,6,9,15], dtype = torch.complex32)\n"
          ]
        },
        {
          "output_type": "execute_result",
          "data": {
            "text/plain": [
              "torch.complex32"
            ]
          },
          "metadata": {},
          "execution_count": 47
        }
      ]
    },
    {
      "cell_type": "markdown",
      "source": [
        "### getting info from tensors\n",
        "**Note** : 3 big errors we will face with pytorch and machine learning\n",
        "1. tensors not right datatype - to do get datatype from a tensor , can use tensor.type\n",
        "2. tensors not right shape - to get shape from a tensor, can use tensor.shape\n",
        "3. tensors not on the right device - to get device from a tensor , can use tensor.device"
      ],
      "metadata": {
        "id": "G4OqOXoAbAri"
      }
    },
    {
      "cell_type": "code",
      "source": [
        "#create a tensor\n",
        "some_tensor = torch.rand(2,5)\n",
        "some_tensor"
      ],
      "metadata": {
        "id": "9J2CGozCeUcb",
        "colab": {
          "base_uri": "https://localhost:8080/"
        },
        "outputId": "c1b31758-e0d9-49ed-ad90-4c028c1b8a60"
      },
      "execution_count": null,
      "outputs": [
        {
          "output_type": "execute_result",
          "data": {
            "text/plain": [
              "tensor([[0.5061, 0.6673, 0.8928, 0.9790, 0.3046],\n",
              "        [0.8744, 0.8526, 0.4619, 0.2336, 0.2073]])"
            ]
          },
          "metadata": {},
          "execution_count": 48
        }
      ]
    },
    {
      "cell_type": "code",
      "source": [
        "#find out detials about some tensor\n",
        "print(some_tensor)"
      ],
      "metadata": {
        "id": "d55FdToiey7i",
        "colab": {
          "base_uri": "https://localhost:8080/"
        },
        "outputId": "61a5db93-4d84-4c9d-a60c-4dec0806be84"
      },
      "execution_count": null,
      "outputs": [
        {
          "output_type": "stream",
          "name": "stdout",
          "text": [
            "tensor([[0.5061, 0.6673, 0.8928, 0.9790, 0.3046],\n",
            "        [0.8744, 0.8526, 0.4619, 0.2336, 0.2073]])\n"
          ]
        }
      ]
    },
    {
      "cell_type": "code",
      "source": [
        "print(f\"datatype : {some_tensor.dtype}\")   #datatype"
      ],
      "metadata": {
        "colab": {
          "base_uri": "https://localhost:8080/"
        },
        "id": "2KZhH3kAb3Af",
        "outputId": "412d6e9d-6a1f-43e8-9abe-1fdb134cb339"
      },
      "execution_count": null,
      "outputs": [
        {
          "output_type": "stream",
          "name": "stdout",
          "text": [
            "datatype : torch.float32\n"
          ]
        }
      ]
    },
    {
      "cell_type": "code",
      "source": [
        "print(f\"shape : {some_tensor.shape}\")  #shape of tensor"
      ],
      "metadata": {
        "colab": {
          "base_uri": "https://localhost:8080/"
        },
        "id": "jrU6Ft_WcHi_",
        "outputId": "02718a16-7f3d-4c16-9f7c-b144b9b60d6a"
      },
      "execution_count": null,
      "outputs": [
        {
          "output_type": "stream",
          "name": "stdout",
          "text": [
            "shape : torch.Size([2, 5])\n"
          ]
        }
      ]
    },
    {
      "cell_type": "code",
      "source": [
        "some_tensor.size()   #size of the tensor"
      ],
      "metadata": {
        "colab": {
          "base_uri": "https://localhost:8080/"
        },
        "id": "KFadOfF1cLU_",
        "outputId": "b724dfef-fa26-49c2-a57f-40203ec91863"
      },
      "execution_count": null,
      "outputs": [
        {
          "output_type": "execute_result",
          "data": {
            "text/plain": [
              "torch.Size([2, 5])"
            ]
          },
          "metadata": {},
          "execution_count": 52
        }
      ]
    },
    {
      "cell_type": "code",
      "source": [
        "some_tensor.device"
      ],
      "metadata": {
        "id": "qQFA2o9ecRce",
        "colab": {
          "base_uri": "https://localhost:8080/"
        },
        "outputId": "a8365b38-6c30-44e1-d49b-7404eef69103"
      },
      "execution_count": null,
      "outputs": [
        {
          "output_type": "execute_result",
          "data": {
            "text/plain": [
              "device(type='cpu')"
            ]
          },
          "metadata": {},
          "execution_count": 53
        }
      ]
    },
    {
      "cell_type": "markdown",
      "source": [
        "### 19. Manipulating tensors (tensors operations)\n",
        "\n",
        "tensor operations include:\n",
        "* addition\n",
        "* subtraction\n",
        "* multiplication\n",
        "* division\n",
        "* matrix multiplication"
      ],
      "metadata": {
        "id": "n5uOnQkeBwx5"
      }
    },
    {
      "cell_type": "code",
      "source": [
        "t01 = torch.tensor([[1,2,3],\n",
        "                 [5,8,9],\n",
        "                 [9,10,11]])\n",
        "t01"
      ],
      "metadata": {
        "colab": {
          "base_uri": "https://localhost:8080/"
        },
        "id": "1T4t3Bpe79la",
        "outputId": "b4d42968-ae0c-4fb5-bc22-f4eb13ed60ab"
      },
      "execution_count": null,
      "outputs": [
        {
          "output_type": "execute_result",
          "data": {
            "text/plain": [
              "tensor([[ 1,  2,  3],\n",
              "        [ 5,  8,  9],\n",
              "        [ 9, 10, 11]])"
            ]
          },
          "metadata": {},
          "execution_count": 54
        }
      ]
    },
    {
      "cell_type": "code",
      "source": [
        "# Add\n",
        "t01 + 1"
      ],
      "metadata": {
        "colab": {
          "base_uri": "https://localhost:8080/"
        },
        "id": "e36acwJ7CamJ",
        "outputId": "a4eebe75-b2fd-4ec0-89ce-d65e4b1f47c0"
      },
      "execution_count": null,
      "outputs": [
        {
          "output_type": "execute_result",
          "data": {
            "text/plain": [
              "tensor([[ 2,  3,  4],\n",
              "        [ 6,  9, 10],\n",
              "        [10, 11, 12]])"
            ]
          },
          "metadata": {},
          "execution_count": 55
        }
      ]
    },
    {
      "cell_type": "code",
      "source": [
        "# Pytorch built-in function for add\n",
        "torch.add(t01,10)"
      ],
      "metadata": {
        "colab": {
          "base_uri": "https://localhost:8080/"
        },
        "id": "lvN5-xMdEudh",
        "outputId": "655da737-5385-47cf-9335-ef5656146aed"
      },
      "execution_count": null,
      "outputs": [
        {
          "output_type": "execute_result",
          "data": {
            "text/plain": [
              "tensor([[11, 12, 13],\n",
              "        [15, 18, 19],\n",
              "        [19, 20, 21]])"
            ]
          },
          "metadata": {},
          "execution_count": 56
        }
      ]
    },
    {
      "cell_type": "code",
      "source": [
        "# Substract\n",
        "t01 - 1"
      ],
      "metadata": {
        "colab": {
          "base_uri": "https://localhost:8080/"
        },
        "id": "GED57bgZCw-Z",
        "outputId": "aed1bc1d-88c1-4c41-c515-bc90b39cee77"
      },
      "execution_count": null,
      "outputs": [
        {
          "output_type": "execute_result",
          "data": {
            "text/plain": [
              "tensor([[ 0,  1,  2],\n",
              "        [ 4,  7,  8],\n",
              "        [ 8,  9, 10]])"
            ]
          },
          "metadata": {},
          "execution_count": 57
        }
      ]
    },
    {
      "cell_type": "code",
      "source": [
        "# Pytorch built-in function for substract\n",
        "torch.sub(t01,10)"
      ],
      "metadata": {
        "colab": {
          "base_uri": "https://localhost:8080/"
        },
        "id": "QxKPvRgfEyHR",
        "outputId": "34108bb3-9a26-4c81-9734-54691333a69a"
      },
      "execution_count": null,
      "outputs": [
        {
          "output_type": "execute_result",
          "data": {
            "text/plain": [
              "tensor([[-9, -8, -7],\n",
              "        [-5, -2, -1],\n",
              "        [-1,  0,  1]])"
            ]
          },
          "metadata": {},
          "execution_count": 58
        }
      ]
    },
    {
      "cell_type": "code",
      "source": [
        "# Multiply\n",
        "t02 = t01 * 2\n",
        "t02"
      ],
      "metadata": {
        "colab": {
          "base_uri": "https://localhost:8080/"
        },
        "id": "PFd53T3FCz24",
        "outputId": "997c05d2-420b-4ae0-cb0e-2a623542d1a7"
      },
      "execution_count": null,
      "outputs": [
        {
          "output_type": "execute_result",
          "data": {
            "text/plain": [
              "tensor([[ 2,  4,  6],\n",
              "        [10, 16, 18],\n",
              "        [18, 20, 22]])"
            ]
          },
          "metadata": {},
          "execution_count": 59
        }
      ]
    },
    {
      "cell_type": "code",
      "source": [
        "# Pytorch built-in function for multiply\n",
        "torch.mul(t01,10)"
      ],
      "metadata": {
        "colab": {
          "base_uri": "https://localhost:8080/"
        },
        "id": "nI63TKkrEZjY",
        "outputId": "6b0eedcf-9a52-48f1-91a3-aaed85c0db02"
      },
      "execution_count": null,
      "outputs": [
        {
          "output_type": "execute_result",
          "data": {
            "text/plain": [
              "tensor([[ 10,  20,  30],\n",
              "        [ 50,  80,  90],\n",
              "        [ 90, 100, 110]])"
            ]
          },
          "metadata": {},
          "execution_count": 60
        }
      ]
    },
    {
      "cell_type": "code",
      "source": [
        "# Divide\n",
        "t02 / 2"
      ],
      "metadata": {
        "colab": {
          "base_uri": "https://localhost:8080/"
        },
        "id": "NJK_z50LDmOi",
        "outputId": "0c2f758c-2233-4adb-ffa5-b7aed7779bdf"
      },
      "execution_count": null,
      "outputs": [
        {
          "output_type": "execute_result",
          "data": {
            "text/plain": [
              "tensor([[ 1.,  2.,  3.],\n",
              "        [ 5.,  8.,  9.],\n",
              "        [ 9., 10., 11.]])"
            ]
          },
          "metadata": {},
          "execution_count": 61
        }
      ]
    },
    {
      "cell_type": "code",
      "source": [
        "# Pytorch built-in function for divide\n",
        "torch.div(t01,10)"
      ],
      "metadata": {
        "colab": {
          "base_uri": "https://localhost:8080/"
        },
        "id": "bB2BZf-BE3E7",
        "outputId": "9f0de691-8505-48ce-d0f9-3e50d4eb66f3"
      },
      "execution_count": null,
      "outputs": [
        {
          "output_type": "execute_result",
          "data": {
            "text/plain": [
              "tensor([[0.1000, 0.2000, 0.3000],\n",
              "        [0.5000, 0.8000, 0.9000],\n",
              "        [0.9000, 1.0000, 1.1000]])"
            ]
          },
          "metadata": {},
          "execution_count": 62
        }
      ]
    },
    {
      "cell_type": "code",
      "source": [
        "t01  #print t01"
      ],
      "metadata": {
        "colab": {
          "base_uri": "https://localhost:8080/"
        },
        "id": "2_4udPlYD1UB",
        "outputId": "0a8d8a19-8b85-4a54-de23-aefb11f8c6d6"
      },
      "execution_count": null,
      "outputs": [
        {
          "output_type": "execute_result",
          "data": {
            "text/plain": [
              "tensor([[ 1,  2,  3],\n",
              "        [ 5,  8,  9],\n",
              "        [ 9, 10, 11]])"
            ]
          },
          "metadata": {},
          "execution_count": 63
        }
      ]
    },
    {
      "cell_type": "code",
      "source": [
        "t02  #print t02"
      ],
      "metadata": {
        "colab": {
          "base_uri": "https://localhost:8080/"
        },
        "id": "8Bhy9-UPD1Me",
        "outputId": "fcf3ec85-95ae-462b-d7a9-196f338a268a"
      },
      "execution_count": null,
      "outputs": [
        {
          "output_type": "execute_result",
          "data": {
            "text/plain": [
              "tensor([[ 2,  4,  6],\n",
              "        [10, 16, 18],\n",
              "        [18, 20, 22]])"
            ]
          },
          "metadata": {},
          "execution_count": 64
        }
      ]
    },
    {
      "cell_type": "code",
      "source": [
        "# Matrix mupltiplication\n",
        "t02 * t01"
      ],
      "metadata": {
        "colab": {
          "base_uri": "https://localhost:8080/"
        },
        "id": "kr_n53RvDt35",
        "outputId": "f0fdde78-7870-420d-8770-aaaa296f3f0f"
      },
      "execution_count": null,
      "outputs": [
        {
          "output_type": "execute_result",
          "data": {
            "text/plain": [
              "tensor([[  2,   8,  18],\n",
              "        [ 50, 128, 162],\n",
              "        [162, 200, 242]])"
            ]
          },
          "metadata": {},
          "execution_count": 65
        }
      ]
    },
    {
      "cell_type": "code",
      "source": [
        "# Pytorch built-in function for matrix multiplication\n",
        "torch.matmul(t01,t02)"
      ],
      "metadata": {
        "colab": {
          "base_uri": "https://localhost:8080/"
        },
        "id": "ubn9AOZGFFcR",
        "outputId": "28ed3aa0-95ec-4575-bd26-5a0199f60842"
      },
      "execution_count": null,
      "outputs": [
        {
          "output_type": "execute_result",
          "data": {
            "text/plain": [
              "tensor([[ 76,  96, 108],\n",
              "        [252, 328, 372],\n",
              "        [316, 416, 476]])"
            ]
          },
          "metadata": {},
          "execution_count": 66
        }
      ]
    },
    {
      "cell_type": "markdown",
      "source": [
        "### Matrix Multiplication\n",
        "\n",
        "two things are there :\n",
        "1. Element wise\n",
        "2. Matrix multiplication (dot product)  :\n",
        "  * (3,2) and (2,4) : its first and last no should match\n",
        "  * the resulting matrix is (3,4)"
      ],
      "metadata": {
        "id": "KoMIIT6S9zrg"
      }
    },
    {
      "cell_type": "code",
      "source": [
        "ten07 = torch.tensor([1,2,3])\n",
        "ten07"
      ],
      "metadata": {
        "colab": {
          "base_uri": "https://localhost:8080/"
        },
        "id": "MHSgP1nk-kLo",
        "outputId": "7a596080-1ae4-4e3c-ca24-581d7c899b1e"
      },
      "execution_count": null,
      "outputs": [
        {
          "output_type": "execute_result",
          "data": {
            "text/plain": [
              "tensor([1, 2, 3])"
            ]
          },
          "metadata": {},
          "execution_count": 67
        }
      ]
    },
    {
      "cell_type": "code",
      "source": [
        "# element wise multiplication\n",
        "print(ten07, \"*\" ,ten07)\n",
        "print(f\"equals : {ten07 * ten07}\")"
      ],
      "metadata": {
        "id": "zcyQDmurDz9Z",
        "colab": {
          "base_uri": "https://localhost:8080/"
        },
        "outputId": "84eb48a9-7d02-4efb-b4d9-36dbf7ce1c65"
      },
      "execution_count": null,
      "outputs": [
        {
          "output_type": "stream",
          "name": "stdout",
          "text": [
            "tensor([1, 2, 3]) * tensor([1, 2, 3])\n",
            "equals : tensor([1, 4, 9])\n"
          ]
        }
      ]
    },
    {
      "cell_type": "code",
      "source": [
        "# dot product , matrix multiplication\n",
        "torch.matmul(ten07, ten07)"
      ],
      "metadata": {
        "colab": {
          "base_uri": "https://localhost:8080/"
        },
        "id": "tnZQ7BAW-rM_",
        "outputId": "b1478dfb-ac87-463b-aaff-0be108392ae2"
      },
      "execution_count": null,
      "outputs": [
        {
          "output_type": "execute_result",
          "data": {
            "text/plain": [
              "tensor(14)"
            ]
          },
          "metadata": {},
          "execution_count": 69
        }
      ]
    },
    {
      "cell_type": "code",
      "source": [
        "ten07 = torch.rand(3,3)"
      ],
      "metadata": {
        "id": "FuHHd3wIDNFu"
      },
      "execution_count": null,
      "outputs": []
    },
    {
      "cell_type": "code",
      "source": [
        "%%time\n",
        "value = 0\n",
        "for i in range (len(ten07)):\n",
        "  value += ten07[i] + ten07[i]\n",
        "\n",
        "print(value)"
      ],
      "metadata": {
        "colab": {
          "base_uri": "https://localhost:8080/"
        },
        "id": "6IEU9YBABwy-",
        "outputId": "054e233f-836b-4d3f-8d00-4689a1103200"
      },
      "execution_count": null,
      "outputs": [
        {
          "output_type": "stream",
          "name": "stdout",
          "text": [
            "tensor([2.6588, 2.1603, 2.8620])\n",
            "CPU times: user 1.14 ms, sys: 0 ns, total: 1.14 ms\n",
            "Wall time: 1.15 ms\n"
          ]
        }
      ]
    },
    {
      "cell_type": "code",
      "source": [
        "%%time\n",
        "torch.matmul(ten07, ten07)"
      ],
      "metadata": {
        "colab": {
          "base_uri": "https://localhost:8080/"
        },
        "id": "dQmZkpa8C7KO",
        "outputId": "18baa461-42a8-4d63-99a2-faeaabd9ae10"
      },
      "execution_count": null,
      "outputs": [
        {
          "output_type": "stream",
          "name": "stdout",
          "text": [
            "CPU times: user 2.33 ms, sys: 0 ns, total: 2.33 ms\n",
            "Wall time: 12.8 ms\n"
          ]
        },
        {
          "output_type": "execute_result",
          "data": {
            "text/plain": [
              "tensor([[0.9543, 0.5199, 0.8705],\n",
              "        [0.3132, 0.5578, 0.5096],\n",
              "        [0.3902, 0.3729, 0.5279]])"
            ]
          },
          "metadata": {},
          "execution_count": 72
        }
      ]
    },
    {
      "cell_type": "code",
      "source": [
        "tensor_a = torch.tensor([[1,5,5],\n",
        "                        [5,8,9]])\n",
        "tensor_a.shape"
      ],
      "metadata": {
        "colab": {
          "base_uri": "https://localhost:8080/"
        },
        "id": "74Vq16pADGku",
        "outputId": "34fcc89d-b833-47c2-bdcf-3894fc36a700"
      },
      "execution_count": null,
      "outputs": [
        {
          "output_type": "execute_result",
          "data": {
            "text/plain": [
              "torch.Size([2, 3])"
            ]
          },
          "metadata": {},
          "execution_count": 73
        }
      ]
    },
    {
      "cell_type": "code",
      "source": [
        "tensor_b = torch.tensor([[5,7],\n",
        "                         [4,6],\n",
        "                         [8,6]])\n",
        "tensor_b.shape"
      ],
      "metadata": {
        "colab": {
          "base_uri": "https://localhost:8080/"
        },
        "id": "D6T9tN_eFvD5",
        "outputId": "dd670d0e-8490-48a7-80d1-83cd97b42596"
      },
      "execution_count": null,
      "outputs": [
        {
          "output_type": "execute_result",
          "data": {
            "text/plain": [
              "torch.Size([3, 2])"
            ]
          },
          "metadata": {},
          "execution_count": 74
        }
      ]
    },
    {
      "cell_type": "code",
      "source": [
        "# matrix transpose\n",
        "tesnsor_b_transpose = tensor_b.T\n",
        "tesnsor_b_transpose.shape"
      ],
      "metadata": {
        "colab": {
          "base_uri": "https://localhost:8080/"
        },
        "id": "31pKz11VJHin",
        "outputId": "42c3a461-14e7-4ba3-c063-4199e1971bc1"
      },
      "execution_count": null,
      "outputs": [
        {
          "output_type": "execute_result",
          "data": {
            "text/plain": [
              "torch.Size([2, 3])"
            ]
          },
          "metadata": {},
          "execution_count": 75
        }
      ]
    },
    {
      "cell_type": "markdown",
      "source": [
        "***Transpose of the matrix, will transforms its order and 2,3 will be 3,2.***"
      ],
      "metadata": {
        "id": "gk3bOHPzGX_l"
      }
    },
    {
      "cell_type": "code",
      "source": [
        "mul = torch.matmul(tensor_a, tensor_b)"
      ],
      "metadata": {
        "id": "LP3SRnMTF_E_"
      },
      "execution_count": null,
      "outputs": []
    },
    {
      "cell_type": "code",
      "source": [
        "mul"
      ],
      "metadata": {
        "colab": {
          "base_uri": "https://localhost:8080/"
        },
        "id": "tnRH1J_8GJou",
        "outputId": "3689f202-6541-4137-9515-701fcfe762c8"
      },
      "execution_count": null,
      "outputs": [
        {
          "output_type": "execute_result",
          "data": {
            "text/plain": [
              "tensor([[ 65,  67],\n",
              "        [129, 137]])"
            ]
          },
          "metadata": {},
          "execution_count": 77
        }
      ]
    },
    {
      "cell_type": "markdown",
      "source": [
        "### Finding the min, max, sum,mean, etc (tensor aggregation)"
      ],
      "metadata": {
        "id": "46PgPVOjJy0F"
      }
    },
    {
      "cell_type": "code",
      "source": [
        "tensor08 = torch.tensor([[5,7,50],\n",
        "                         [4,6,66],\n",
        "                         [8,6,99]])"
      ],
      "metadata": {
        "id": "KQptjKscGKft"
      },
      "execution_count": null,
      "outputs": []
    },
    {
      "cell_type": "markdown",
      "source": [
        "* minimum"
      ],
      "metadata": {
        "id": "M99mb7dBKova"
      }
    },
    {
      "cell_type": "code",
      "source": [
        "tensor08.min()"
      ],
      "metadata": {
        "colab": {
          "base_uri": "https://localhost:8080/"
        },
        "id": "9eddj9dyKRFt",
        "outputId": "cf5bb383-a7c6-4a7d-cbe7-fa539b7c4ba9"
      },
      "execution_count": null,
      "outputs": [
        {
          "output_type": "execute_result",
          "data": {
            "text/plain": [
              "tensor(4)"
            ]
          },
          "metadata": {},
          "execution_count": 79
        }
      ]
    },
    {
      "cell_type": "code",
      "source": [
        "torch.min(tensor08)"
      ],
      "metadata": {
        "colab": {
          "base_uri": "https://localhost:8080/"
        },
        "id": "miKojvkcKTXe",
        "outputId": "cb7eafb9-e1a3-47a6-f07d-5f0dc5ebb6f0"
      },
      "execution_count": null,
      "outputs": [
        {
          "output_type": "execute_result",
          "data": {
            "text/plain": [
              "tensor(4)"
            ]
          },
          "metadata": {},
          "execution_count": 80
        }
      ]
    },
    {
      "cell_type": "markdown",
      "source": [
        "* maximum"
      ],
      "metadata": {
        "id": "-cfKsx95KqiU"
      }
    },
    {
      "cell_type": "code",
      "source": [
        "tensor08.max()"
      ],
      "metadata": {
        "colab": {
          "base_uri": "https://localhost:8080/"
        },
        "id": "RX5bPSyOKh29",
        "outputId": "8d197a07-f5bb-44c0-9106-b19eed99a277"
      },
      "execution_count": null,
      "outputs": [
        {
          "output_type": "execute_result",
          "data": {
            "text/plain": [
              "tensor(99)"
            ]
          },
          "metadata": {},
          "execution_count": 81
        }
      ]
    },
    {
      "cell_type": "code",
      "source": [
        "torch.max(tensor08)"
      ],
      "metadata": {
        "colab": {
          "base_uri": "https://localhost:8080/"
        },
        "id": "zXdLuHObKs1N",
        "outputId": "71c7a30f-fe8b-4743-d6f1-3bc6ed68e7f3"
      },
      "execution_count": null,
      "outputs": [
        {
          "output_type": "execute_result",
          "data": {
            "text/plain": [
              "tensor(99)"
            ]
          },
          "metadata": {},
          "execution_count": 82
        }
      ]
    },
    {
      "cell_type": "markdown",
      "source": [
        "* mean"
      ],
      "metadata": {
        "id": "2FxDrMxyK3aU"
      }
    },
    {
      "cell_type": "code",
      "source": [
        "#  tensor08.mean() # Error :  tensor is not right datatype"
      ],
      "metadata": {
        "id": "JiKcsKKTKwT9"
      },
      "execution_count": null,
      "outputs": []
    },
    {
      "cell_type": "code",
      "source": [
        "tensor08.dtype"
      ],
      "metadata": {
        "colab": {
          "base_uri": "https://localhost:8080/"
        },
        "id": "G1nae9iKLT3m",
        "outputId": "ed60186c-038e-493c-f03b-bd0c55525a14"
      },
      "execution_count": null,
      "outputs": [
        {
          "output_type": "execute_result",
          "data": {
            "text/plain": [
              "torch.int64"
            ]
          },
          "metadata": {},
          "execution_count": 84
        }
      ]
    },
    {
      "cell_type": "code",
      "source": [
        "# now we will change the datatype int64 to float32 or float64\n",
        "tensor08_float = tensor08.type(torch.float64)\n",
        "tensor08_float.dtype"
      ],
      "metadata": {
        "colab": {
          "base_uri": "https://localhost:8080/"
        },
        "id": "ICAs6KvhLpYc",
        "outputId": "7f4de43d-0a63-4b14-b4d6-cca89e6fd77d"
      },
      "execution_count": null,
      "outputs": [
        {
          "output_type": "execute_result",
          "data": {
            "text/plain": [
              "torch.float64"
            ]
          },
          "metadata": {},
          "execution_count": 85
        }
      ]
    },
    {
      "cell_type": "code",
      "source": [
        "tensor08_float.mean()"
      ],
      "metadata": {
        "colab": {
          "base_uri": "https://localhost:8080/"
        },
        "id": "0DejlJwkMLa0",
        "outputId": "d12730ea-3d74-490e-c693-3e760d4dd55f"
      },
      "execution_count": null,
      "outputs": [
        {
          "output_type": "execute_result",
          "data": {
            "text/plain": [
              "tensor(27.8889, dtype=torch.float64)"
            ]
          },
          "metadata": {},
          "execution_count": 86
        }
      ]
    },
    {
      "cell_type": "code",
      "source": [
        "torch.mean(tensor08_float)"
      ],
      "metadata": {
        "colab": {
          "base_uri": "https://localhost:8080/"
        },
        "id": "F5jBBemfK_zt",
        "outputId": "368d0d9a-d099-4d71-94bd-1605c96313d0"
      },
      "execution_count": null,
      "outputs": [
        {
          "output_type": "execute_result",
          "data": {
            "text/plain": [
              "tensor(27.8889, dtype=torch.float64)"
            ]
          },
          "metadata": {},
          "execution_count": 87
        }
      ]
    },
    {
      "cell_type": "markdown",
      "source": [
        "* sum"
      ],
      "metadata": {
        "id": "5QGU8urdMlL5"
      }
    },
    {
      "cell_type": "code",
      "source": [
        "tensor08_float.sum()"
      ],
      "metadata": {
        "colab": {
          "base_uri": "https://localhost:8080/"
        },
        "id": "zJDqZOqcMkJ0",
        "outputId": "a57eab4f-8802-49d2-eacd-1f26684db5fb"
      },
      "execution_count": null,
      "outputs": [
        {
          "output_type": "execute_result",
          "data": {
            "text/plain": [
              "tensor(251., dtype=torch.float64)"
            ]
          },
          "metadata": {},
          "execution_count": 88
        }
      ]
    },
    {
      "cell_type": "code",
      "source": [
        "torch.sum(tensor08_float)"
      ],
      "metadata": {
        "colab": {
          "base_uri": "https://localhost:8080/"
        },
        "id": "R_HpZWjiLBDO",
        "outputId": "a9bfed28-a990-4cf3-80c1-9982972d87bd"
      },
      "execution_count": null,
      "outputs": [
        {
          "output_type": "execute_result",
          "data": {
            "text/plain": [
              "tensor(251., dtype=torch.float64)"
            ]
          },
          "metadata": {},
          "execution_count": 89
        }
      ]
    },
    {
      "cell_type": "code",
      "source": [
        "# sum will work with the datatype int64 unlike mean (>> which works only on float)\n",
        "tensor08.sum()"
      ],
      "metadata": {
        "colab": {
          "base_uri": "https://localhost:8080/"
        },
        "id": "wZobQj4FMrdN",
        "outputId": "3336fb39-3c88-47ba-9ee0-f6c38a16a37d"
      },
      "execution_count": null,
      "outputs": [
        {
          "output_type": "execute_result",
          "data": {
            "text/plain": [
              "tensor(251)"
            ]
          },
          "metadata": {},
          "execution_count": 90
        }
      ]
    },
    {
      "cell_type": "code",
      "source": [
        "tensor08_float"
      ],
      "metadata": {
        "colab": {
          "base_uri": "https://localhost:8080/"
        },
        "id": "tnDaE-CSNW-e",
        "outputId": "caf1fc26-afbd-42a4-f0c9-ae5c025820d5"
      },
      "execution_count": null,
      "outputs": [
        {
          "output_type": "execute_result",
          "data": {
            "text/plain": [
              "tensor([[ 5.,  7., 50.],\n",
              "        [ 4.,  6., 66.],\n",
              "        [ 8.,  6., 99.]], dtype=torch.float64)"
            ]
          },
          "metadata": {},
          "execution_count": 91
        }
      ]
    },
    {
      "cell_type": "markdown",
      "source": [
        "### Finding the positional min and max"
      ],
      "metadata": {
        "id": "w1-wtEstNdTb"
      }
    },
    {
      "cell_type": "markdown",
      "source": [
        "* argmin"
      ],
      "metadata": {
        "id": "nBEUSUOHN01d"
      }
    },
    {
      "cell_type": "code",
      "source": [
        "# index value of the minimum no. in the matrix\n",
        "tensor08_float.argmin()"
      ],
      "metadata": {
        "colab": {
          "base_uri": "https://localhost:8080/"
        },
        "id": "oVUYkc7zMvE9",
        "outputId": "403b1f62-4961-4f9a-9519-3f37c93ff5d2"
      },
      "execution_count": null,
      "outputs": [
        {
          "output_type": "execute_result",
          "data": {
            "text/plain": [
              "tensor(3)"
            ]
          },
          "metadata": {},
          "execution_count": 92
        }
      ]
    },
    {
      "cell_type": "code",
      "source": [
        "tensor08_float.min()"
      ],
      "metadata": {
        "colab": {
          "base_uri": "https://localhost:8080/"
        },
        "id": "K2WUq52sNSyN",
        "outputId": "ed63db93-9ede-419f-f5c4-59de96bd7150"
      },
      "execution_count": null,
      "outputs": [
        {
          "output_type": "execute_result",
          "data": {
            "text/plain": [
              "tensor(4., dtype=torch.float64)"
            ]
          },
          "metadata": {},
          "execution_count": 93
        }
      ]
    },
    {
      "cell_type": "markdown",
      "source": [
        "* argmax"
      ],
      "metadata": {
        "id": "k5dWm7tUN5Uz"
      }
    },
    {
      "cell_type": "code",
      "source": [
        "# index value of the maximum no. in the matrix\n",
        "tensor08_float.argmax()"
      ],
      "metadata": {
        "colab": {
          "base_uri": "https://localhost:8080/"
        },
        "id": "zOeWWAWmNqDM",
        "outputId": "ff632e70-0afa-4dc9-ac72-d3fc10c89a69"
      },
      "execution_count": null,
      "outputs": [
        {
          "output_type": "execute_result",
          "data": {
            "text/plain": [
              "tensor(8)"
            ]
          },
          "metadata": {},
          "execution_count": 94
        }
      ]
    },
    {
      "cell_type": "code",
      "source": [
        "tensor08_float.max()"
      ],
      "metadata": {
        "colab": {
          "base_uri": "https://localhost:8080/"
        },
        "id": "t6Y5YJ_jN9eM",
        "outputId": "fc335de1-a825-4dd9-f88a-9a346798e419"
      },
      "execution_count": null,
      "outputs": [
        {
          "output_type": "execute_result",
          "data": {
            "text/plain": [
              "tensor(99., dtype=torch.float64)"
            ]
          },
          "metadata": {},
          "execution_count": 95
        }
      ]
    },
    {
      "cell_type": "markdown",
      "source": [
        "# Practice"
      ],
      "metadata": {
        "id": "n5sRvWEWpnFR"
      }
    },
    {
      "cell_type": "code",
      "source": [
        "ten09 = torch.rand(3,4)"
      ],
      "metadata": {
        "id": "bp891nosprwh"
      },
      "execution_count": null,
      "outputs": []
    },
    {
      "cell_type": "code",
      "source": [
        "ten09"
      ],
      "metadata": {
        "colab": {
          "base_uri": "https://localhost:8080/"
        },
        "id": "XqN4K9iNpyIQ",
        "outputId": "ef2c94df-7a71-409e-fb7c-45dbc2c9649c"
      },
      "execution_count": null,
      "outputs": [
        {
          "output_type": "execute_result",
          "data": {
            "text/plain": [
              "tensor([[0.9809, 0.8452, 0.0452, 0.4649],\n",
              "        [0.0528, 0.1114, 0.7343, 0.8209],\n",
              "        [0.1929, 0.0547, 0.6263, 0.5399]])"
            ]
          },
          "metadata": {},
          "execution_count": 97
        }
      ]
    },
    {
      "cell_type": "code",
      "source": [
        "ten09.argmax()"
      ],
      "metadata": {
        "colab": {
          "base_uri": "https://localhost:8080/"
        },
        "id": "nbgnjBdHp0Dp",
        "outputId": "ed0b06d1-10ba-4ca8-b403-018e49d8d5af"
      },
      "execution_count": null,
      "outputs": [
        {
          "output_type": "execute_result",
          "data": {
            "text/plain": [
              "tensor(0)"
            ]
          },
          "metadata": {},
          "execution_count": 98
        }
      ]
    },
    {
      "cell_type": "code",
      "source": [
        "ten09.max()"
      ],
      "metadata": {
        "colab": {
          "base_uri": "https://localhost:8080/"
        },
        "id": "9em3OGWGp0Ax",
        "outputId": "e52afcc9-ce6c-4696-a4d0-e56041ceda85"
      },
      "execution_count": null,
      "outputs": [
        {
          "output_type": "execute_result",
          "data": {
            "text/plain": [
              "tensor(0.9809)"
            ]
          },
          "metadata": {},
          "execution_count": 99
        }
      ]
    },
    {
      "cell_type": "markdown",
      "source": [
        "### Reshaping , viewing , stacking , squeezing and unsqueezing tensors\n",
        "* Reshaping - reshapes a tensor\n",
        "* View - Data same different shape\n",
        "* stacking combine multiple tensors on top of each other (vstack) and (hstack)\n",
        "  * vstack = on each other\n",
        "  * hstack = side by side\n",
        "* Squeeze - removes all '1' dimensions from a tensor\n",
        "* Unsqueeze - add a '1' dimension to a target tensor\n",
        "* Permute - Return a view of the input with dimensions permuted(swapped) in a certain way"
      ],
      "metadata": {
        "id": "Fl6s0-KopZCL"
      }
    },
    {
      "cell_type": "code",
      "source": [
        "import torch"
      ],
      "metadata": {
        "id": "StAgVnG0OA1s"
      },
      "execution_count": null,
      "outputs": []
    },
    {
      "cell_type": "code",
      "source": [
        "x = torch.arange(1., 10.)\n",
        "x , x.shape"
      ],
      "metadata": {
        "colab": {
          "base_uri": "https://localhost:8080/"
        },
        "id": "UvyA0NxmVxPC",
        "outputId": "1f25d87d-e269-4ced-f1e2-ca7b67af5d69"
      },
      "execution_count": null,
      "outputs": [
        {
          "output_type": "execute_result",
          "data": {
            "text/plain": [
              "(tensor([1., 2., 3., 4., 5., 6., 7., 8., 9.]), torch.Size([9]))"
            ]
          },
          "metadata": {},
          "execution_count": 101
        }
      ]
    },
    {
      "cell_type": "code",
      "source": [
        "# add an extra dimensionn to it\n",
        "x_reshaped = x.reshape(9,1)\n",
        "x, x_reshaped"
      ],
      "metadata": {
        "colab": {
          "base_uri": "https://localhost:8080/"
        },
        "id": "pH75_5ksV6ci",
        "outputId": "6d3414f7-8cf0-44b0-a0b8-9c41b37da8d7"
      },
      "execution_count": null,
      "outputs": [
        {
          "output_type": "execute_result",
          "data": {
            "text/plain": [
              "(tensor([1., 2., 3., 4., 5., 6., 7., 8., 9.]),\n",
              " tensor([[1.],\n",
              "         [2.],\n",
              "         [3.],\n",
              "         [4.],\n",
              "         [5.],\n",
              "         [6.],\n",
              "         [7.],\n",
              "         [8.],\n",
              "         [9.]]))"
            ]
          },
          "metadata": {},
          "execution_count": 102
        }
      ]
    },
    {
      "cell_type": "code",
      "source": [
        "x_reshaped = x.reshape(3,3)\n",
        "x, x_reshaped"
      ],
      "metadata": {
        "colab": {
          "base_uri": "https://localhost:8080/"
        },
        "id": "91uDAqFOWFPB",
        "outputId": "0ec4dfc1-3a98-4b8f-cb4e-c6064a7635de"
      },
      "execution_count": null,
      "outputs": [
        {
          "output_type": "execute_result",
          "data": {
            "text/plain": [
              "(tensor([1., 2., 3., 4., 5., 6., 7., 8., 9.]),\n",
              " tensor([[1., 2., 3.],\n",
              "         [4., 5., 6.],\n",
              "         [7., 8., 9.]]))"
            ]
          },
          "metadata": {},
          "execution_count": 103
        }
      ]
    },
    {
      "cell_type": "code",
      "source": [
        "#change the view\n",
        "x"
      ],
      "metadata": {
        "colab": {
          "base_uri": "https://localhost:8080/"
        },
        "id": "9IASqegkYMhB",
        "outputId": "c63fe050-3bc7-4635-94c7-5a7a22e81b94"
      },
      "execution_count": null,
      "outputs": [
        {
          "output_type": "execute_result",
          "data": {
            "text/plain": [
              "tensor([1., 2., 3., 4., 5., 6., 7., 8., 9.])"
            ]
          },
          "metadata": {},
          "execution_count": 104
        }
      ]
    },
    {
      "cell_type": "code",
      "source": [
        "x.view(3,3)"
      ],
      "metadata": {
        "colab": {
          "base_uri": "https://localhost:8080/"
        },
        "id": "S14TL_9sY-tA",
        "outputId": "b4be9c1b-fe25-4112-e931-49b11db68391"
      },
      "execution_count": null,
      "outputs": [
        {
          "output_type": "execute_result",
          "data": {
            "text/plain": [
              "tensor([[1., 2., 3.],\n",
              "        [4., 5., 6.],\n",
              "        [7., 8., 9.]])"
            ]
          },
          "metadata": {},
          "execution_count": 105
        }
      ]
    },
    {
      "cell_type": "code",
      "source": [
        "x.view(9,1) , x"
      ],
      "metadata": {
        "colab": {
          "base_uri": "https://localhost:8080/"
        },
        "id": "oU8LCV8sZBKQ",
        "outputId": "7e15e48e-031d-4d84-ed93-c567060b957d"
      },
      "execution_count": null,
      "outputs": [
        {
          "output_type": "execute_result",
          "data": {
            "text/plain": [
              "(tensor([[1.],\n",
              "         [2.],\n",
              "         [3.],\n",
              "         [4.],\n",
              "         [5.],\n",
              "         [6.],\n",
              "         [7.],\n",
              "         [8.],\n",
              "         [9.]]),\n",
              " tensor([1., 2., 3., 4., 5., 6., 7., 8., 9.]))"
            ]
          },
          "metadata": {},
          "execution_count": 106
        }
      ]
    },
    {
      "cell_type": "code",
      "source": [
        "x"
      ],
      "metadata": {
        "colab": {
          "base_uri": "https://localhost:8080/"
        },
        "id": "xPJgyxi0fzdc",
        "outputId": "84d4ed02-e51d-4490-d291-21f2a756ab7f"
      },
      "execution_count": null,
      "outputs": [
        {
          "output_type": "execute_result",
          "data": {
            "text/plain": [
              "tensor([1., 2., 3., 4., 5., 6., 7., 8., 9.])"
            ]
          },
          "metadata": {},
          "execution_count": 107
        }
      ]
    },
    {
      "cell_type": "code",
      "source": [
        "# Stack the tensors on top of each other\n",
        "xstack = torch.stack([x, x, x, x, x], dim = 0)\n",
        "xstack"
      ],
      "metadata": {
        "id": "p33SiJhvZFGQ",
        "colab": {
          "base_uri": "https://localhost:8080/"
        },
        "outputId": "14133391-52e9-457b-8182-54249cae5532"
      },
      "execution_count": null,
      "outputs": [
        {
          "output_type": "execute_result",
          "data": {
            "text/plain": [
              "tensor([[1., 2., 3., 4., 5., 6., 7., 8., 9.],\n",
              "        [1., 2., 3., 4., 5., 6., 7., 8., 9.],\n",
              "        [1., 2., 3., 4., 5., 6., 7., 8., 9.],\n",
              "        [1., 2., 3., 4., 5., 6., 7., 8., 9.],\n",
              "        [1., 2., 3., 4., 5., 6., 7., 8., 9.]])"
            ]
          },
          "metadata": {},
          "execution_count": 108
        }
      ]
    },
    {
      "cell_type": "code",
      "source": [
        "xstack.ndim"
      ],
      "metadata": {
        "colab": {
          "base_uri": "https://localhost:8080/"
        },
        "id": "RKavVKyWfnbA",
        "outputId": "584d3fe0-5aee-4836-eb26-739b1455f6f3"
      },
      "execution_count": null,
      "outputs": [
        {
          "output_type": "execute_result",
          "data": {
            "text/plain": [
              "2"
            ]
          },
          "metadata": {},
          "execution_count": 109
        }
      ]
    },
    {
      "cell_type": "code",
      "source": [
        "# torch.squeeze() - removes all single dimensions from a target tensor\n",
        "# torch.squeeze()"
      ],
      "metadata": {
        "id": "Zm9b-MbDfrOw"
      },
      "execution_count": null,
      "outputs": []
    },
    {
      "cell_type": "code",
      "source": [
        "x = torch.zeros(2, 1, 2, 1, 2)\n",
        "x.size()"
      ],
      "metadata": {
        "colab": {
          "base_uri": "https://localhost:8080/"
        },
        "id": "FutpuozEl-dL",
        "outputId": "9e4ef50d-58d9-4941-db9a-56f9f4572c2a"
      },
      "execution_count": null,
      "outputs": [
        {
          "output_type": "execute_result",
          "data": {
            "text/plain": [
              "torch.Size([2, 1, 2, 1, 2])"
            ]
          },
          "metadata": {},
          "execution_count": 111
        }
      ]
    },
    {
      "cell_type": "code",
      "source": [
        "y = torch.squeeze(x)\n",
        "y.size()"
      ],
      "metadata": {
        "colab": {
          "base_uri": "https://localhost:8080/"
        },
        "id": "kbP87C-8mHEb",
        "outputId": "19db261d-afcb-48eb-9bcd-71e36a2d4786"
      },
      "execution_count": null,
      "outputs": [
        {
          "output_type": "execute_result",
          "data": {
            "text/plain": [
              "torch.Size([2, 2, 2])"
            ]
          },
          "metadata": {},
          "execution_count": 112
        }
      ]
    },
    {
      "cell_type": "code",
      "source": [
        "# torch unsqueeze() - adds a single dimension to a target at a specific dim\n",
        "y_unsqueezed = y.unsqueeze(dim=0)\n",
        "y_unsqueezed.size()"
      ],
      "metadata": {
        "colab": {
          "base_uri": "https://localhost:8080/"
        },
        "id": "RgCD0PXzmROK",
        "outputId": "e0a969fb-7515-4205-b740-d117e02a0753"
      },
      "execution_count": null,
      "outputs": [
        {
          "output_type": "execute_result",
          "data": {
            "text/plain": [
              "torch.Size([1, 2, 2, 2])"
            ]
          },
          "metadata": {},
          "execution_count": 113
        }
      ]
    },
    {
      "cell_type": "code",
      "source": [
        "# torch.permute - rearranges the dimensions of a target tensor in a specified order\n",
        "x = torch.randn(2, 3, 5)\n",
        "x.size()"
      ],
      "metadata": {
        "colab": {
          "base_uri": "https://localhost:8080/"
        },
        "id": "OhAWAIbzm-z7",
        "outputId": "6aadef06-5469-414c-cad6-2057d0ec0800"
      },
      "execution_count": null,
      "outputs": [
        {
          "output_type": "execute_result",
          "data": {
            "text/plain": [
              "torch.Size([2, 3, 5])"
            ]
          },
          "metadata": {},
          "execution_count": 114
        }
      ]
    },
    {
      "cell_type": "code",
      "source": [
        "x"
      ],
      "metadata": {
        "colab": {
          "base_uri": "https://localhost:8080/"
        },
        "id": "D8hsg3Cgp7Sp",
        "outputId": "2bb9fe0c-9d3c-4dd9-f08b-17ff051d3fa9"
      },
      "execution_count": null,
      "outputs": [
        {
          "output_type": "execute_result",
          "data": {
            "text/plain": [
              "tensor([[[ 1.3873, -0.5155, -0.9850, -0.5256,  1.3886],\n",
              "         [-0.3813,  0.2803,  0.2940,  0.8204,  0.5220],\n",
              "         [ 1.0495,  0.8096, -0.4465,  0.5234, -0.2216]],\n",
              "\n",
              "        [[ 0.6203, -1.3261,  0.6436,  0.0718, -0.1979],\n",
              "         [-0.3703, -1.0550, -0.0641,  0.6756,  0.9016],\n",
              "         [ 0.0864, -0.5698,  1.4087, -0.8290, -0.8197]]])"
            ]
          },
          "metadata": {},
          "execution_count": 115
        }
      ]
    },
    {
      "cell_type": "code",
      "source": [
        "torch.permute(x, (2, 0, 1)).size()"
      ],
      "metadata": {
        "colab": {
          "base_uri": "https://localhost:8080/"
        },
        "id": "Jk_kFGZgoaE6",
        "outputId": "892b6c3c-8886-48fe-c898-96b807f34148"
      },
      "execution_count": null,
      "outputs": [
        {
          "output_type": "execute_result",
          "data": {
            "text/plain": [
              "torch.Size([5, 2, 3])"
            ]
          },
          "metadata": {},
          "execution_count": 116
        }
      ]
    },
    {
      "cell_type": "code",
      "source": [
        "p = torch.rand(44,10,52,40)\n",
        "p.ndim"
      ],
      "metadata": {
        "colab": {
          "base_uri": "https://localhost:8080/"
        },
        "id": "Fnll_036pDu-",
        "outputId": "31cca7f1-a86f-4b09-a86b-fdcac3eac096"
      },
      "execution_count": null,
      "outputs": [
        {
          "output_type": "execute_result",
          "data": {
            "text/plain": [
              "4"
            ]
          },
          "metadata": {},
          "execution_count": 117
        }
      ]
    },
    {
      "cell_type": "markdown",
      "source": [],
      "metadata": {
        "id": "gWE4_0-6rYUj"
      }
    },
    {
      "cell_type": "code",
      "source": [],
      "metadata": {
        "id": "2gLm9L6jp246"
      },
      "execution_count": null,
      "outputs": []
    },
    {
      "cell_type": "code",
      "source": [],
      "metadata": {
        "id": "2GpWAEcqsMPA"
      },
      "execution_count": null,
      "outputs": []
    },
    {
      "cell_type": "code",
      "source": [],
      "metadata": {
        "id": "yi39WcDGsMMK"
      },
      "execution_count": null,
      "outputs": []
    },
    {
      "cell_type": "code",
      "source": [],
      "metadata": {
        "id": "uevU0EjFsMJs"
      },
      "execution_count": null,
      "outputs": []
    }
  ]
}
