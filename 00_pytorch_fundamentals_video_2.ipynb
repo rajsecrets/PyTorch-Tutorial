{
  "nbformat": 4,
  "nbformat_minor": 0,
  "metadata": {
    "colab": {
      "provenance": [],
      "cell_execution_strategy": "setup",
      "authorship_tag": "ABX9TyOwdw5Mmn+MiPQwj9YouhCy",
      "include_colab_link": true
    },
    "kernelspec": {
      "name": "python3",
      "display_name": "Python 3"
    },
    "language_info": {
      "name": "python"
    }
  },
  "cells": [
    {
      "cell_type": "markdown",
      "metadata": {
        "id": "view-in-github",
        "colab_type": "text"
      },
      "source": [
        "<a href=\"https://colab.research.google.com/github/rajsecrets01/PyTorch/blob/main/01_pytorch_fundamentals_video.ipynb\" target=\"_parent\"><img src=\"https://colab.research.google.com/assets/colab-badge.svg\" alt=\"Open In Colab\"/></a>"
      ]
    },
    {
      "cell_type": "markdown",
      "source": [
        "## Indexing (selecting data from tensors)\n",
        "Indexing with Pytorch is similar to indexing with Numpy\n"
      ],
      "metadata": {
        "id": "YjFPYNnnAaoQ"
      }
    },
    {
      "cell_type": "code",
      "execution_count": 1,
      "metadata": {
        "colab": {
          "base_uri": "https://localhost:8080/"
        },
        "id": "KmYtVLJcARmU",
        "outputId": "69913348-a341-4750-8963-0e148befe674"
      },
      "outputs": [
        {
          "output_type": "execute_result",
          "data": {
            "text/plain": [
              "(tensor([[[1, 2, 3],\n",
              "          [4, 5, 6],\n",
              "          [7, 8, 9]]]),\n",
              " torch.Size([1, 3, 3]))"
            ]
          },
          "metadata": {},
          "execution_count": 1
        }
      ],
      "source": [
        "# create a tensor\n",
        "import torch\n",
        "x = torch.arange(1,10).reshape(1,3,3)\n",
        "x, x.shape"
      ]
    },
    {
      "cell_type": "code",
      "source": [
        "# let's index on new tensor\n",
        "x[0]"
      ],
      "metadata": {
        "colab": {
          "base_uri": "https://localhost:8080/"
        },
        "id": "4rdVNd0UArEz",
        "outputId": "72d70cb9-d51c-447b-c54e-ec860ee28905"
      },
      "execution_count": 2,
      "outputs": [
        {
          "output_type": "execute_result",
          "data": {
            "text/plain": [
              "tensor([[1, 2, 3],\n",
              "        [4, 5, 6],\n",
              "        [7, 8, 9]])"
            ]
          },
          "metadata": {},
          "execution_count": 2
        }
      ]
    },
    {
      "cell_type": "code",
      "source": [
        "# let's index on the middle bracket (dim=1)\n",
        "x[0,0]"
      ],
      "metadata": {
        "colab": {
          "base_uri": "https://localhost:8080/"
        },
        "id": "lPrJk3HFBJ0P",
        "outputId": "a4a7b958-b407-4242-a225-8ad4cf0a40a0"
      },
      "execution_count": 3,
      "outputs": [
        {
          "output_type": "execute_result",
          "data": {
            "text/plain": [
              "tensor([1, 2, 3])"
            ]
          },
          "metadata": {},
          "execution_count": 3
        }
      ]
    },
    {
      "cell_type": "code",
      "source": [
        "# inner most bracket indexing of numbers\n",
        "x[0][1][2]\n",
        "# here [1] - is showing rows\n",
        "# here [2] - is showing columns\n",
        "# indexing always starts from 0"
      ],
      "metadata": {
        "colab": {
          "base_uri": "https://localhost:8080/"
        },
        "id": "0CK98aRyBcJr",
        "outputId": "9f57feef-e8a8-4895-b7c3-ccad0dfb25dd"
      },
      "execution_count": 4,
      "outputs": [
        {
          "output_type": "execute_result",
          "data": {
            "text/plain": [
              "tensor(6)"
            ]
          },
          "metadata": {},
          "execution_count": 4
        }
      ]
    },
    {
      "cell_type": "code",
      "source": [
        "# get 9 by indexing\n",
        "x[0][2][2]"
      ],
      "metadata": {
        "colab": {
          "base_uri": "https://localhost:8080/"
        },
        "id": "41nxyaQwDFQw",
        "outputId": "77810941-b333-4e72-9462-30ab822e3cca"
      },
      "execution_count": 5,
      "outputs": [
        {
          "output_type": "execute_result",
          "data": {
            "text/plain": [
              "tensor(9)"
            ]
          },
          "metadata": {},
          "execution_count": 5
        }
      ]
    },
    {
      "cell_type": "code",
      "source": [
        "# you can also use \":\" to select all the of target dimension\n",
        "x[:,0]"
      ],
      "metadata": {
        "colab": {
          "base_uri": "https://localhost:8080/"
        },
        "id": "K9UhhkycEFSq",
        "outputId": "cb9ef587-2b69-4291-e7f1-0d085312aa3e"
      },
      "execution_count": 6,
      "outputs": [
        {
          "output_type": "execute_result",
          "data": {
            "text/plain": [
              "tensor([[1, 2, 3]])"
            ]
          },
          "metadata": {},
          "execution_count": 6
        }
      ]
    },
    {
      "cell_type": "code",
      "source": [
        "# Get all values of 0th and 1st dim but only index 1 of 2nd dim\n",
        "x[:,:,2]"
      ],
      "metadata": {
        "colab": {
          "base_uri": "https://localhost:8080/"
        },
        "id": "pqRv8s5WEaMv",
        "outputId": "50e68a29-5912-42f3-c33e-8f2b5672c776"
      },
      "execution_count": 7,
      "outputs": [
        {
          "output_type": "execute_result",
          "data": {
            "text/plain": [
              "tensor([[3, 6, 9]])"
            ]
          },
          "metadata": {},
          "execution_count": 7
        }
      ]
    },
    {
      "cell_type": "code",
      "source": [
        "# get all values of the 0 dimension but only the 1 index value of 1st and 2nd dimension\n",
        "x[:,1,1]"
      ],
      "metadata": {
        "colab": {
          "base_uri": "https://localhost:8080/"
        },
        "id": "cVbOTE4lEw-K",
        "outputId": "a2061504-1fe7-43c3-9b4f-d156eaf79d4e"
      },
      "execution_count": 8,
      "outputs": [
        {
          "output_type": "execute_result",
          "data": {
            "text/plain": [
              "tensor([5])"
            ]
          },
          "metadata": {},
          "execution_count": 8
        }
      ]
    },
    {
      "cell_type": "code",
      "source": [
        "# get the 0 of 0th and 1st dimension and all values of 2nd dimension\n",
        "x[0,0,:]"
      ],
      "metadata": {
        "colab": {
          "base_uri": "https://localhost:8080/"
        },
        "id": "1tH2gGNAFPGd",
        "outputId": "e621245d-750b-4910-a4de-a63e31e356b1"
      },
      "execution_count": 9,
      "outputs": [
        {
          "output_type": "execute_result",
          "data": {
            "text/plain": [
              "tensor([1, 2, 3])"
            ]
          },
          "metadata": {},
          "execution_count": 9
        }
      ]
    },
    {
      "cell_type": "code",
      "source": [
        "x"
      ],
      "metadata": {
        "colab": {
          "base_uri": "https://localhost:8080/"
        },
        "id": "WPGMXu4eF2S8",
        "outputId": "3418e822-9337-4407-8902-c4d1e9ad82dc"
      },
      "execution_count": 10,
      "outputs": [
        {
          "output_type": "execute_result",
          "data": {
            "text/plain": [
              "tensor([[[1, 2, 3],\n",
              "         [4, 5, 6],\n",
              "         [7, 8, 9]]])"
            ]
          },
          "metadata": {},
          "execution_count": 10
        }
      ]
    },
    {
      "cell_type": "code",
      "source": [
        "# index on x to return 9\n",
        "x[:,2,2]"
      ],
      "metadata": {
        "colab": {
          "base_uri": "https://localhost:8080/"
        },
        "id": "stZpd73EFm5H",
        "outputId": "807493a2-6077-49a9-a897-62e15b595871"
      },
      "execution_count": 11,
      "outputs": [
        {
          "output_type": "execute_result",
          "data": {
            "text/plain": [
              "tensor([9])"
            ]
          },
          "metadata": {},
          "execution_count": 11
        }
      ]
    },
    {
      "cell_type": "code",
      "source": [
        "# index on x to return 3,6,9\n",
        "x[:,:,2]"
      ],
      "metadata": {
        "colab": {
          "base_uri": "https://localhost:8080/"
        },
        "id": "cBIyQ_IyF7Jk",
        "outputId": "892f983c-2448-4dfb-865f-7be2c41da446"
      },
      "execution_count": 12,
      "outputs": [
        {
          "output_type": "execute_result",
          "data": {
            "text/plain": [
              "tensor([[3, 6, 9]])"
            ]
          },
          "metadata": {},
          "execution_count": 12
        }
      ]
    },
    {
      "cell_type": "markdown",
      "source": [
        "## Pytorch tensors and Numpy\n",
        "* Data in Numpy, want in Pytorch Tensor -> `torch.from_numpy(ndarray)`\n",
        "* Pytorch tensor -> Numpy -> `torch.Tensor.numpy()`"
      ],
      "metadata": {
        "id": "ab_fIdr5Glxb"
      }
    },
    {
      "cell_type": "code",
      "source": [
        "# Numpy array to tensor\n",
        "import torch\n",
        "import numpy as np\n",
        "\n",
        "\n",
        "array = np.arange(1.0,8.0)\n",
        "tensor = torch.from_numpy(array)"
      ],
      "metadata": {
        "id": "_gKTCasdGR6d"
      },
      "execution_count": 13,
      "outputs": []
    },
    {
      "cell_type": "code",
      "source": [
        "array, tensor, array.dtype, tensor.dtype , print(\"numpy default decimal : float32\")"
      ],
      "metadata": {
        "id": "OR9YElxfBtKu",
        "colab": {
          "base_uri": "https://localhost:8080/"
        },
        "outputId": "275edcc4-666f-46e9-f72e-3200e5caeb6d"
      },
      "execution_count": 14,
      "outputs": [
        {
          "output_type": "stream",
          "name": "stdout",
          "text": [
            "numpy default decimal : float32\n"
          ]
        },
        {
          "output_type": "execute_result",
          "data": {
            "text/plain": [
              "(array([1., 2., 3., 4., 5., 6., 7.]),\n",
              " tensor([1., 2., 3., 4., 5., 6., 7.], dtype=torch.float64),\n",
              " dtype('float64'),\n",
              " torch.float64,\n",
              " None)"
            ]
          },
          "metadata": {},
          "execution_count": 14
        }
      ]
    },
    {
      "cell_type": "code",
      "source": [
        "array02 = np.arange(1,10)\n",
        "tensor02 = torch.from_numpy(array02)\n",
        "tensor02"
      ],
      "metadata": {
        "id": "0CBHS6nSsUPZ",
        "colab": {
          "base_uri": "https://localhost:8080/"
        },
        "outputId": "438b8c46-8345-4dc0-f2cc-dbdbc7e8f1cc"
      },
      "execution_count": 15,
      "outputs": [
        {
          "output_type": "execute_result",
          "data": {
            "text/plain": [
              "tensor([1, 2, 3, 4, 5, 6, 7, 8, 9])"
            ]
          },
          "metadata": {},
          "execution_count": 15
        }
      ]
    },
    {
      "cell_type": "code",
      "source": [
        "# now we will change the array and see what it's effect on tensor\n",
        "array = array+1\n",
        "array, tensor"
      ],
      "metadata": {
        "id": "MBW-HCsIsy_Y",
        "colab": {
          "base_uri": "https://localhost:8080/"
        },
        "outputId": "8d57030b-938d-4823-c236-c18a6f2d9922"
      },
      "execution_count": 16,
      "outputs": [
        {
          "output_type": "execute_result",
          "data": {
            "text/plain": [
              "(array([2., 3., 4., 5., 6., 7., 8.]),\n",
              " tensor([1., 2., 3., 4., 5., 6., 7.], dtype=torch.float64))"
            ]
          },
          "metadata": {},
          "execution_count": 16
        }
      ]
    },
    {
      "cell_type": "markdown",
      "source": [
        "* Tensor will not change if you will change *array*"
      ],
      "metadata": {
        "id": "7ThlPxNOyim3"
      }
    },
    {
      "cell_type": "code",
      "source": [
        "# Tensor to Numpy array\n",
        "tensor = torch.ones(7)\n",
        "numpy_tensor = tensor.numpy()"
      ],
      "metadata": {
        "id": "T3ygvbfdyFqn"
      },
      "execution_count": 17,
      "outputs": []
    },
    {
      "cell_type": "markdown",
      "source": [
        "* Now we will change the tensor and see what it's effect on numpy array\n"
      ],
      "metadata": {
        "id": "cZX6-U4Fz352"
      }
    },
    {
      "cell_type": "code",
      "source": [
        "tensor = tensor + 1"
      ],
      "metadata": {
        "id": "GJ-izFJ6zRle"
      },
      "execution_count": 18,
      "outputs": []
    },
    {
      "cell_type": "code",
      "source": [
        "tensor, numpy_tensor"
      ],
      "metadata": {
        "colab": {
          "base_uri": "https://localhost:8080/"
        },
        "id": "VZv8ltk-yKmn",
        "outputId": "603ceb21-ed5f-446b-84cc-8b6de6797997"
      },
      "execution_count": 19,
      "outputs": [
        {
          "output_type": "execute_result",
          "data": {
            "text/plain": [
              "(tensor([2., 2., 2., 2., 2., 2., 2.]),\n",
              " array([1., 1., 1., 1., 1., 1., 1.], dtype=float32))"
            ]
          },
          "metadata": {},
          "execution_count": 19
        }
      ]
    },
    {
      "cell_type": "code",
      "source": [
        "numpy_tensor.dtype"
      ],
      "metadata": {
        "colab": {
          "base_uri": "https://localhost:8080/"
        },
        "id": "Af9aKpiGzO5m",
        "outputId": "f01ab02d-340e-4bf5-a943-547d9505bd2f"
      },
      "execution_count": 20,
      "outputs": [
        {
          "output_type": "execute_result",
          "data": {
            "text/plain": [
              "dtype('float32')"
            ]
          },
          "metadata": {},
          "execution_count": 20
        }
      ]
    },
    {
      "cell_type": "code",
      "source": [
        "tensor.dtype"
      ],
      "metadata": {
        "colab": {
          "base_uri": "https://localhost:8080/"
        },
        "id": "XMwjjVe8ziw2",
        "outputId": "331c3515-fe8d-4698-fa7a-9bd9a584dfc7"
      },
      "execution_count": 21,
      "outputs": [
        {
          "output_type": "execute_result",
          "data": {
            "text/plain": [
              "torch.float32"
            ]
          },
          "metadata": {},
          "execution_count": 21
        }
      ]
    },
    {
      "cell_type": "markdown",
      "source": [
        "## Reproducibility (trying to make random out of random)\n",
        "\n",
        "`start with random no. -> tensor operation -> update the random nos. and update them -> again -> again -> again...`\n",
        "\n",
        "To reduce the randomness in neural networks and Pytorch comes with the concept of **RANDOM SEED**\n",
        "Essentially what the random seed does is \"flavour\" the randomness.\n",
        "\n"
      ],
      "metadata": {
        "id": "ISTUxXr-0RZj"
      }
    },
    {
      "cell_type": "code",
      "source": [
        "torch.rand(3,3)"
      ],
      "metadata": {
        "id": "iZkgsFPfzt7m",
        "colab": {
          "base_uri": "https://localhost:8080/"
        },
        "outputId": "b4a60d43-2731-4a6c-9a57-658269aa0b69"
      },
      "execution_count": 22,
      "outputs": [
        {
          "output_type": "execute_result",
          "data": {
            "text/plain": [
              "tensor([[0.6625, 0.9323, 0.7506],\n",
              "        [0.2855, 0.6097, 0.6491],\n",
              "        [0.1883, 0.1971, 0.0755]])"
            ]
          },
          "metadata": {},
          "execution_count": 22
        }
      ]
    },
    {
      "cell_type": "code",
      "source": [
        "random_A = torch.rand(3,4)\n",
        "random_B = torch.rand(3,4)\n",
        "print(random_A)\n",
        "print(random_B)\n",
        "print(random_A == random_B)"
      ],
      "metadata": {
        "id": "tpK4yQtr2y-P",
        "colab": {
          "base_uri": "https://localhost:8080/"
        },
        "outputId": "a2520b46-558c-416d-b1ac-bfd1eeb48791"
      },
      "execution_count": 23,
      "outputs": [
        {
          "output_type": "stream",
          "name": "stdout",
          "text": [
            "tensor([[0.8495, 0.3784, 0.9044, 0.4137],\n",
            "        [0.7603, 0.5610, 0.0536, 0.5251],\n",
            "        [0.8154, 0.0543, 0.8142, 0.3046]])\n",
            "tensor([[0.6816, 0.4753, 0.9652, 0.3651],\n",
            "        [0.2198, 0.0655, 0.1214, 0.1195],\n",
            "        [0.2930, 0.4306, 0.7057, 0.9623]])\n",
            "tensor([[False, False, False, False],\n",
            "        [False, False, False, False],\n",
            "        [False, False, False, False]])\n"
          ]
        }
      ]
    },
    {
      "cell_type": "markdown",
      "source": [
        "### Random seed - It sets the randomness"
      ],
      "metadata": {
        "id": "-qyQgEGjO3ie"
      }
    },
    {
      "cell_type": "code",
      "source": [
        "# Let's make some random but reproducible tensors\n",
        "import torch\n",
        "\n",
        "# Set the random seed\n",
        "RANDOM_SEED = 42\n",
        "torch.manual_seed(RANDOM_SEED)\n",
        "random_c = torch.rand(3,5)\n",
        "\n",
        "torch.manual_seed(RANDOM_SEED)\n",
        "random_d = torch.rand(3,5)\n",
        "\n",
        "print(random_c)\n",
        "print(random_d)\n",
        "print(random_c == random_d)"
      ],
      "metadata": {
        "id": "i6YJSIeD2y7M",
        "colab": {
          "base_uri": "https://localhost:8080/"
        },
        "outputId": "f70d38d3-c901-4ced-a1c2-064aee629f62"
      },
      "execution_count": 28,
      "outputs": [
        {
          "output_type": "stream",
          "name": "stdout",
          "text": [
            "tensor([[0.8823, 0.9150, 0.3829, 0.9593, 0.3904],\n",
            "        [0.6009, 0.2566, 0.7936, 0.9408, 0.1332],\n",
            "        [0.9346, 0.5936, 0.8694, 0.5677, 0.7411]])\n",
            "tensor([[0.8823, 0.9150, 0.3829, 0.9593, 0.3904],\n",
            "        [0.6009, 0.2566, 0.7936, 0.9408, 0.1332],\n",
            "        [0.9346, 0.5936, 0.8694, 0.5677, 0.7411]])\n",
            "tensor([[True, True, True, True, True],\n",
            "        [True, True, True, True, True],\n",
            "        [True, True, True, True, True]])\n"
          ]
        }
      ]
    },
    {
      "cell_type": "markdown",
      "source": [
        "## Running tenors and Pytorch objects on GPUs (and making faster computations)\n",
        "\n",
        "* GPUs = faster computation on no.\n",
        "Because of CUDA + NVIDIA + Pytorch backend"
      ],
      "metadata": {
        "id": "XDxYp1hEPaSc"
      }
    },
    {
      "cell_type": "markdown",
      "source": [
        "### 1. Getting a GPU\n",
        "* Use GCP +++\n",
        "* Purchase\n",
        "* Cloud Computing - GCP, AWS , Azure"
      ],
      "metadata": {
        "id": "Yzv0DkGw2ywl"
      }
    },
    {
      "cell_type": "code",
      "source": [
        "!nvidia-smi"
      ],
      "metadata": {
        "id": "2CGEYACTz8PN",
        "colab": {
          "base_uri": "https://localhost:8080/"
        },
        "outputId": "308cd376-168d-4509-dea5-bffb8bc60e4c"
      },
      "execution_count": 4,
      "outputs": [
        {
          "output_type": "stream",
          "name": "stdout",
          "text": [
            "Sun Aug 27 04:48:46 2023       \n",
            "+-----------------------------------------------------------------------------+\n",
            "| NVIDIA-SMI 525.105.17   Driver Version: 525.105.17   CUDA Version: 12.0     |\n",
            "|-------------------------------+----------------------+----------------------+\n",
            "| GPU  Name        Persistence-M| Bus-Id        Disp.A | Volatile Uncorr. ECC |\n",
            "| Fan  Temp  Perf  Pwr:Usage/Cap|         Memory-Usage | GPU-Util  Compute M. |\n",
            "|                               |                      |               MIG M. |\n",
            "|===============================+======================+======================|\n",
            "|   0  Tesla T4            Off  | 00000000:00:04.0 Off |                    0 |\n",
            "| N/A   52C    P8    10W /  70W |      3MiB / 15360MiB |      0%      Default |\n",
            "|                               |                      |                  N/A |\n",
            "+-------------------------------+----------------------+----------------------+\n",
            "                                                                               \n",
            "+-----------------------------------------------------------------------------+\n",
            "| Processes:                                                                  |\n",
            "|  GPU   GI   CI        PID   Type   Process name                  GPU Memory |\n",
            "|        ID   ID                                                   Usage      |\n",
            "|=============================================================================|\n",
            "|  No running processes found                                                 |\n",
            "+-----------------------------------------------------------------------------+\n"
          ]
        }
      ]
    },
    {
      "cell_type": "markdown",
      "source": [
        "### 2. Check for GPU access with PyTorch"
      ],
      "metadata": {
        "id": "vDgTu5XFTQ-s"
      }
    },
    {
      "cell_type": "code",
      "source": [
        "# check for GPU with Pytorch\n",
        "import torch\n",
        "torch.cuda.is_available()"
      ],
      "metadata": {
        "colab": {
          "base_uri": "https://localhost:8080/"
        },
        "id": "KzRsB0DwTzsk",
        "outputId": "51953207-2ecb-401b-a039-af6d597b0d47"
      },
      "execution_count": 5,
      "outputs": [
        {
          "output_type": "execute_result",
          "data": {
            "text/plain": [
              "True"
            ]
          },
          "metadata": {},
          "execution_count": 5
        }
      ]
    },
    {
      "cell_type": "markdown",
      "source": [
        "For PyTorch if it is capable of running compute on GPU or CPU, it is best practice to setup device agnostic code\n",
        "E.g. run on GPU if available, else CPU"
      ],
      "metadata": {
        "id": "DuCAC7RqVS07"
      }
    },
    {
      "cell_type": "code",
      "source": [
        "# Setup device agnostic code\n",
        "device = \"cuda\" if torch.cuda.is_available() else \"cpu\"\n",
        "device"
      ],
      "metadata": {
        "colab": {
          "base_uri": "https://localhost:8080/",
          "height": 35
        },
        "id": "SvOpgVQWTzp-",
        "outputId": "52ab725d-f2f0-4ba8-b42e-be86ef0b8474"
      },
      "execution_count": 6,
      "outputs": [
        {
          "output_type": "execute_result",
          "data": {
            "text/plain": [
              "'cuda'"
            ],
            "application/vnd.google.colaboratory.intrinsic+json": {
              "type": "string"
            }
          },
          "metadata": {},
          "execution_count": 6
        }
      ]
    },
    {
      "cell_type": "code",
      "source": [
        "# Count no of devices\n",
        "torch.cuda.device_count()"
      ],
      "metadata": {
        "colab": {
          "base_uri": "https://localhost:8080/"
        },
        "id": "OcWK8bVgTzm7",
        "outputId": "c2e75449-da58-412f-9906-dcc3740d1733"
      },
      "execution_count": 7,
      "outputs": [
        {
          "output_type": "execute_result",
          "data": {
            "text/plain": [
              "1"
            ]
          },
          "metadata": {},
          "execution_count": 7
        }
      ]
    },
    {
      "cell_type": "markdown",
      "source": [
        "### 3. Putting tensors (and models) on CPU\n",
        "* For faster computation"
      ],
      "metadata": {
        "id": "JWmkzb0qTzj0"
      }
    },
    {
      "cell_type": "code",
      "source": [
        "# create a tensor (default on the CPU)\n",
        "tensor = torch.tensor([1,2,3], device = \"cpu\")\n",
        "\n",
        "# Tensor on CPU\n",
        "print(tensor, tensor.device)"
      ],
      "metadata": {
        "colab": {
          "base_uri": "https://localhost:8080/"
        },
        "id": "_F4GEXWDV4Lc",
        "outputId": "f0117c43-8aa3-4979-861f-b90a8bc4ada0"
      },
      "execution_count": 16,
      "outputs": [
        {
          "output_type": "stream",
          "name": "stdout",
          "text": [
            "tensor([1, 2, 3]) cpu\n"
          ]
        }
      ]
    },
    {
      "cell_type": "markdown",
      "source": [
        "On **GPU**:\n",
        "\n",
        "Way 1"
      ],
      "metadata": {
        "id": "At74PBQ2aYhD"
      }
    },
    {
      "cell_type": "code",
      "source": [
        "# create a tensor on GPU - cuda\n",
        "tensor = torch.tensor([1,2,3], device = \"cuda\")\n",
        "\n",
        "# Tensor on GPU\n",
        "print(tensor, tensor.device)"
      ],
      "metadata": {
        "colab": {
          "base_uri": "https://localhost:8080/"
        },
        "id": "sKySd7RuYuXs",
        "outputId": "e5120b7c-e725-4521-dcba-ec8ca0b2ddcb"
      },
      "execution_count": 17,
      "outputs": [
        {
          "output_type": "stream",
          "name": "stdout",
          "text": [
            "tensor([1, 2, 3], device='cuda:0') cuda:0\n"
          ]
        }
      ]
    },
    {
      "cell_type": "markdown",
      "source": [
        "On GPU:\n",
        "\n",
        "Way 2"
      ],
      "metadata": {
        "id": "dQzDOCnZamtb"
      }
    },
    {
      "cell_type": "code",
      "source": [
        "# tensor on GPU (Better method , if GPU is not available then it will use CPU)\n",
        "tensor_on_gpu = tensor.to(device)\n",
        "tensor_on_gpu"
      ],
      "metadata": {
        "colab": {
          "base_uri": "https://localhost:8080/"
        },
        "id": "-FxTGAWFaLec",
        "outputId": "83f937d5-ca24-4e9f-d060-6d09b4f5d6e4"
      },
      "execution_count": 20,
      "outputs": [
        {
          "output_type": "execute_result",
          "data": {
            "text/plain": [
              "tensor([1, 2, 3], device='cuda:0')"
            ]
          },
          "metadata": {},
          "execution_count": 20
        }
      ]
    },
    {
      "cell_type": "markdown",
      "source": [
        "### 4. Moving tensors to CPU\n"
      ],
      "metadata": {
        "id": "yhJvVTbYa1h7"
      }
    },
    {
      "cell_type": "code",
      "source": [
        "# if tensor is on GPU, then it cannot transform in to numpy\n",
        "# tensor_on_gpu.numpy()"
      ],
      "metadata": {
        "id": "I_JRJJXzbSA6"
      },
      "execution_count": 22,
      "outputs": []
    },
    {
      "cell_type": "code",
      "source": [
        "# To fix the issues, go to CPU by using \".cpu()\"\n",
        "tensor_back_on_cpu = tensor_on_gpu.cpu().numpy()\n",
        "tensor_back_on_cpu"
      ],
      "metadata": {
        "colab": {
          "base_uri": "https://localhost:8080/"
        },
        "id": "xEVazLM7bR-C",
        "outputId": "a41b1a55-d385-4618-cd3b-d17a65683dab"
      },
      "execution_count": 24,
      "outputs": [
        {
          "output_type": "execute_result",
          "data": {
            "text/plain": [
              "array([1, 2, 3])"
            ]
          },
          "metadata": {},
          "execution_count": 24
        }
      ]
    },
    {
      "cell_type": "code",
      "source": [],
      "metadata": {
        "id": "qHLMgcAUbR7b"
      },
      "execution_count": null,
      "outputs": []
    }
  ]
}
